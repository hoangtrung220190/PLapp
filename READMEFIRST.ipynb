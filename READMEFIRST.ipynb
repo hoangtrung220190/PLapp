{
 "cells": [
  {
   "cell_type": "markdown",
   "metadata": { 
    "run_control": {
     "frozen": true,
     "read_only": true
    } 
   },
   "source": [
    "![Cisco Networking Academy](/nbextensions/chestnut/cisco-mwo-heading.png)"
   ]
  },
  {
   "cell_type": "markdown",
   "metadata": { 
    "run_control": {
     "frozen": true,
     "read_only": true
    } 
   },
   "source": [
    "**Cisco Prototyping Lab** is a set of hardware and software components that enable students and instructors to learn about, to prototype, and  to model various IoT, digitization and data analytics solutions.\n",
    "\n",
    "The hardware components are part of the **Prototyping Lab Kit (PL-Kit)**. The PL-Kit is based on Open HW prototyping boards such as Arduino and Raspberry Pi and includes various various additional sensors, actuators, and electronic components. The PL-Kit can be used to build sophisticated prototypes of end to end IoT systems that can sense and actuate the real physical world, analyze and process the data at the fog layer, and connect to network and cloud systems.\n",
    "\n",
    "The primary software component of the Prototyping Lab is the **Prototyping Lab App (PL-App)**. The PL-App is a software platform running on a Raspberry Pi that exposes a web interface based on a concept of notebooks. A notebook is an interactive web page where content is distributed in so called cells. The first cell type (Markdown) is a cell that contains standard web objects such as text, images, videos, etc. The second cell type (Code) is a cell with live executable code with different programming languages (the default is Python).\n",
    "\n",
    "A notebook can be used as a learning material/lab where the explanatory text is intertwined with live executable code and together create a scaffolded learning experience. The explanatory text guides the student through the learning experience, while hands on skills are acquired by modifying, examining and executing live executable code.\n",
    "\n",
    "A notebook is also a great tool that can be used to prototype IoT systems, interconnect with existing cloud services using APIs, etc. In a notebook, application code can be split between multiple code cells, executing only the part of the code that is just being developed or troubleshot. Moreover, using markdown cells, documentation and explanatory text can be added between code cells to provide a clean, easy to understand Rapid Prototyping Interface. \n",
    "\n",
    "The Prototyping Lab App (PL-App), together with the Prototyping Lab Kit (PL-Kit), are enablers for IoT, digitization and data analytics learning and rapid prototyping inside of a classroom. PL-App provides a web based environment to access the software and hardware resources of the Raspberry Pi board, leveraging the concept of Jupyter Notebooks."
   ]
  },
  {
   "cell_type": "markdown",
   "metadata": { 
    "run_control": {
     "frozen": true,
     "read_only": true
    } 
   },
   "source": [
    "<hr>"
   ]
  },
  {
   "cell_type": "markdown",
   "metadata": { 
    "run_control": {
     "frozen": true,
     "read_only": true
    } 
   },
   "source": [
    "### Notebook concepts\n",
    "\n",
    "The Markdown cell type is used to write the standard textual part of the page. Besides formatted text, it can hold multimedia objects like pictures, videos, animations, etc., and it is used to introduce and explain learning objectives, or is used as part of the documentation.\n",
    "\n",
    "The cell bellow contains an example [Markdown code](http://jupyter-notebook.readthedocs.io/en/latest/examples/Notebook/Working%20With%20Markdown%20Cells.html). Doulble click on the cell bellow to turn it into an editable Markdown cell. Run the cell (Ctrl+Enter) to render the Markdown code to HTML."
   ]
  },
  {
   "cell_type": "markdown",
   "metadata": {},
   "source": [
    "#### Example Markdown cell\n",
    "\n",
    "**bold**\n",
    "\n",
    "*italic*\n",
    "\n",
    "[link](http://www.cisco.com)\n",
    "\n",
    "Bullet list:\n",
    "* line 1\n",
    "* line 2\n",
    "   * line level 2\n",
    "* line 3\n",
    "\n",
    "Numbered list:\n",
    "1. line 1\n",
    "2. line 2\n",
    "3. line 3\n",
    "\n",
    "To include a picture, start with an exlamation mark followed as bellow:\n",
    "![Cisco logo](http://www.cisco.com/web/fw/i/logo-open-graph.gif)"
   ]
  },
  {
   "cell_type": "markdown",
   "metadata": { 
    "run_control": {
     "frozen": true,
     "read_only": true
    } 
   },
   "source": [
    "The Code cells are used to write directly executable code in one of the supported programming languages (Python, Bash). The application code can be split into multiple cells, where each cell can be executed one by one, multiple times. The code in these cells can be directly edited and modified, re-executed multiple times, and adapted to specific needs. This enables rapid prototyping concepts, where the development of the final application can be divided into smaller sections, each dealing only with the specific problem, while all the cells are solving the overall problem."
   ]
  },
  {
   "cell_type": "code",
   "execution_count": null,
   "metadata": {
    "collapsed": false
   },
   "outputs": [],
   "source": [
    "# Example code cell\n",
    "# for loop in a range of number defined by the function `range()`\n",
    "for i in range(5):\n",
    "    print (\"Hello from PL-App. Number \" + str(i))"
   ]
  },
  {
   "cell_type": "markdown",
   "metadata": { 
    "run_control": {
     "frozen": true,
     "read_only": true
    } 
   },
   "source": [
    "The code cells can also contain Visual Programmings with Blockly:"
   ]
  },
  {
   "cell_type": "code",
   "execution_count": null,
   "metadata": {
    "blockly": {
     "display": true,
     "save": "<xml xmlns=\"http://www.w3.org/1999/xhtml\"><block type=\"comment\" x=\"39\" y=\"21\"><field name=\"comment_value\">Example Visual Programming</field><next><block type=\"controls_for\"><field name=\"VAR\">i</field><value name=\"FROM\"><block type=\"math_number\"><field name=\"NUM\">0</field></block></value><value name=\"TO\"><block type=\"math_number\"><field name=\"NUM\">4</field></block></value><value name=\"BY\"><block type=\"math_number\"><field name=\"NUM\">1</field></block></value><statement name=\"DO\"><block type=\"text_print\"><value name=\"TEXT\"><block type=\"text_join\"><mutation items=\"2\"></mutation><value name=\"ADD0\"><block type=\"text\"><field name=\"TEXT\">Hello from PL-App. Number: </field></block></value><value name=\"ADD1\"><block type=\"variables_get\"><field name=\"VAR\">i</field></block></value></block></value></block></statement></block></next></block></xml>"
    },
    "collapsed": false
   },
   "outputs": [],
   "source": [
    "i = None\n",
    "\n",
    "\n",
    "# Example Visual Programming\n",
    "for i in range(5):\n",
    "  print(str('Hello from PL-App. Number: ') + str(i))\n"
   ]
  },
  {
   "cell_type": "markdown",
   "metadata": { 
    "run_control": {
     "frozen": true,
     "read_only": true
    } 
   },
   "source": [
    "###### &copy; 2017 Cisco and/or its affiliates. All rights reserved. This document is Cisco Public."
   ]
  }
 ],
 "metadata": {
  "kernelspec": {
   "display_name": "Python 2",
   "language": "python",
   "name": "python2"
  },
  "language_info": {
   "codemirror_mode": {
    "name": "ipython",
    "version": 2
   },
   "file_extension": ".py",
   "mimetype": "text/x-python",
   "name": "python",
   "nbconvert_exporter": "python",
   "pygments_lexer": "ipython2",
   "version": "2.7.9"
  }
 },
 "nbformat": 4,
 "nbformat_minor": 0
}
