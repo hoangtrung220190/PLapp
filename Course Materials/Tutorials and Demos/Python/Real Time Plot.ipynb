{
 "cells": [
  {
   "cell_type": "markdown",
   "metadata": { 
    "run_control": {
     "frozen": true,
     "read_only": true
    } 
   },
   "source": [
    "![Cisco Networking Academy](/nbextensions/chestnut/cisco-mwo-heading.png)"
   ]
  },
  {
   "cell_type": "markdown",
   "metadata": {},
   "source": [
    "This uses a `chestnut.graph` Python library which plots using `Highcharts`.\n",
    "\n",
    "First import the libraries."
   ]
  },
  {
   "cell_type": "code",
   "execution_count": null,
   "metadata": {
    "collapsed": false
   },
   "outputs": [],
   "source": [
    "import chestnut.graph as graph\n",
    "\n",
    "import time\n",
    "from random import randint"
   ]
  },
  {
   "cell_type": "markdown",
   "metadata": {},
   "source": [
    "Instantiate the desired type of graph with a list of labels.\n",
    "Then use update() to update the graph at different times with the values."
   ]
  },
  {
   "cell_type": "code",
   "execution_count": null,
   "metadata": {
    "collapsed": false
   },
   "outputs": [],
   "source": [
    "# full set\n",
    "line = graph.Line(['Data 1', 'Data 2'])\n",
    "spline = graph.Spline(['Data 1', 'Data 2'])\n",
    "bar = graph.Bar(['Data 1', 'Data 2'])\n",
    "column = graph.Column(['Data 1', 'Data 2'])\n",
    "scatter = graph.Scatter(['Data 1', 'Data 2'])\n",
    "bubble = graph.Bubble(['Data 1', 'Data 2'])\n",
    "heatmap = graph.HeatMap(['Data 1', 'Data 2'])\n",
    "pie = graph.Pie(['Data 1', 'Data 2'])\n",
    "funnel = graph.Funnel(['Data 1', 'Data 2'])\n",
    "pyramid = graph.Pyramid(['Data 1', 'Data 2'])\n",
    "gauge = graph.Gauge(['Data 1', 'Data 2'])\n",
    "polar = graph.Polar(['Data 1', 'Data 2'])\n",
    "sg = graph.SolidGauge(['Data 1'])\n",
    "\n",
    "for i in range(1, 20):\n",
    "    line.update([randint(0, 10), randint(0, 10)])\n",
    "    spline.update([randint(0, 10), randint(0, 10)])\n",
    "    bar.update([randint(0, 10), randint(0, 10)])\n",
    "    column.update([randint(0, 10), randint(0, 10)])\n",
    "    scatter.update([randint(0, 10), randint(0, 10)])\n",
    "    bubble.update([[randint(0, 10), randint(0, 10)], [randint(0, 10), randint(0, 10)]])\n",
    "    heatmap.update([[randint(0, 10), randint(0, 10)], [randint(0, 10), randint(0, 10)]])\n",
    "    pie.update([randint(0, 10), randint(0, 10)])\n",
    "    funnel.update([randint(0, 10), randint(0, 10)])\n",
    "    pyramid.update([randint(0, 10), randint(0, 10)])\n",
    "    gauge.update([randint(0, 10), randint(0, 10)])\n",
    "    polar.update([randint(0, 10), randint(0, 10)])\n",
    "    sg.update([randint(0, 10)])\n",
    "    time.sleep(0.5)\n",
    "    "
   ]
  },
  {
   "cell_type": "markdown",
   "metadata": { 
    "run_control": {
     "frozen": true,
     "read_only": true
    } 
   },
   "source": [
    "###### &copy; 2017 Cisco and/or its affiliates. All rights reserved. This document is Cisco Public."
   ]
  }
 ],
 "metadata": {
  "kernelspec": {
   "display_name": "Python 2",
   "language": "python",
   "name": "python2"
  },
  "language_info": {
   "codemirror_mode": {
    "name": "ipython",
    "version": 2
   },
   "file_extension": ".py",
   "mimetype": "text/x-python",
   "name": "python",
   "nbconvert_exporter": "python",
   "pygments_lexer": "ipython2",
   "version": "2.7.9"
  }
 },
 "nbformat": 4,
 "nbformat_minor": 0
}
