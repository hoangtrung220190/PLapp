{
 "cells": [
  {
   "cell_type": "markdown",
   "metadata": { 
    "run_control": {
     "frozen": true,
     "read_only": true
    } 
   },
   "source": [
    "![Cisco Networking Academy](/nbextensions/chestnut/cisco-mwo-heading.png)"
   ]
  },
  {
   "cell_type": "markdown",
   "metadata": {},
   "source": [
    "## Plot Graphs Using matplotlib\n",
    "\n",
    "Use \n",
    "\n",
    "`%matplotlib notebook`\n",
    "\n",
    "to enable graphs."
   ]
  },
  {
   "cell_type": "code",
   "execution_count": null,
   "metadata": {
    "collapsed": false
   },
   "outputs": [],
   "source": [
    "%matplotlib notebook\n",
    "# or\n",
    "#%matplotlib inline\n",
    "\n",
    "import numpy as np\n",
    "import matplotlib.pyplot as plt\n",
    "\n",
    "# Generate data to plot\n",
    "x = np.linspace(0, 2 * np.pi, 200)\n",
    "y = np.exp(np.sin(np.sin(x)))\n",
    "\n",
    "# Make plot\n",
    "plt.plot(x, y)\n",
    "plt.xlim((0, 2 * np.pi))\n",
    "plt.xlabel(r'$x$')\n",
    "plt.ylabel(r'$\\mathrm{e}^{\\sin{x}}$')"
   ]
  },
  {
   "cell_type": "markdown",
   "metadata": {},
   "source": [
    "## Simple Animations"
   ]
  },
  {
   "cell_type": "code",
   "execution_count": null,
   "metadata": {
    "collapsed": false
   },
   "outputs": [],
   "source": [
    "%matplotlib notebook\n",
    "\n",
    "import numpy as np\n",
    "import matplotlib.pyplot as plt\n",
    "import matplotlib.animation as animation\n",
    "\n",
    "fig, ax = plt.subplots()\n",
    "\n",
    "x = np.arange(0, 2*np.pi, 0.01)\n",
    "line, = ax.plot(x, np.sin(x))\n",
    "\n",
    "\n",
    "def animate(i):\n",
    "    line.set_ydata(np.sin(x + i/10.0))  # update the data\n",
    "    return line,\n",
    "\n",
    "\n",
    "# Init only required for blitting to give a clean slate.\n",
    "def init():\n",
    "    line.set_ydata(np.ma.array(x, mask=True))\n",
    "    return line,\n",
    "\n",
    "ani = animation.FuncAnimation(fig, animate, np.arange(1, 200), init_func=init,\n",
    "                              interval=25, blit=True)\n",
    "plt.show()\n"
   ]
  },
  {
   "cell_type": "markdown",
   "metadata": {},
   "source": [
    "## Bar Chart"
   ]
  },
  {
   "cell_type": "code",
   "execution_count": null,
   "metadata": {
    "collapsed": false
   },
   "outputs": [],
   "source": [
    "%matplotlib notebook\n",
    "\n",
    "# a bar plot with errorbars\n",
    "import numpy as np\n",
    "import matplotlib.pyplot as plt\n",
    "\n",
    "N = 5\n",
    "menMeans = (20, 35, 30, 35, 27)\n",
    "menStd = (2, 3, 4, 1, 2)\n",
    "\n",
    "ind = np.arange(N)  # the x locations for the groups\n",
    "width = 0.35       # the width of the bars\n",
    "\n",
    "fig, ax = plt.subplots()\n",
    "rects1 = ax.bar(ind, menMeans, width, color='r', yerr=menStd)\n",
    "\n",
    "womenMeans = (25, 32, 34, 20, 25)\n",
    "womenStd = (3, 5, 2, 3, 3)\n",
    "rects2 = ax.bar(ind + width, womenMeans, width, color='y', yerr=womenStd)\n",
    "\n",
    "# add some text for labels, title and axes ticks\n",
    "ax.set_ylabel('Scores')\n",
    "ax.set_title('Scores by group and gender')\n",
    "ax.set_xticks(ind + width)\n",
    "ax.set_xticklabels(('G1', 'G2', 'G3', 'G4', 'G5'))\n",
    "\n",
    "ax.legend((rects1[0], rects2[0]), ('Men', 'Women'))\n",
    "\n",
    "\n",
    "def autolabel(rects):\n",
    "    # attach some text labels\n",
    "    for rect in rects:\n",
    "        height = rect.get_height()\n",
    "        ax.text(rect.get_x() + rect.get_width()/2., 1.05*height,\n",
    "                '%d' % int(height),\n",
    "                ha='center', va='bottom')\n",
    "\n",
    "autolabel(rects1)\n",
    "autolabel(rects2)\n",
    "\n",
    "plt.show()"
   ]
  },
  {
   "cell_type": "markdown",
   "metadata": {},
   "source": [
    "## More Examples\n",
    "\n",
    "To see more examples of plotting, see http://matplotlib.org/examples/index.html."
   ]
  },
  {
   "cell_type": "markdown",
   "metadata": { 
    "run_control": {
     "frozen": true,
     "read_only": true
    } 
   },
   "source": [
    "###### &copy; 2017 Cisco and/or its affiliates. All rights reserved. This document is Cisco Public."
   ]
  }
 ],
 "metadata": {
  "kernelspec": {
   "display_name": "Python 2",
   "language": "python",
   "name": "python2"
  },
  "language_info": {
   "codemirror_mode": {
    "name": "ipython",
    "version": 2
   },
   "file_extension": ".py",
   "mimetype": "text/x-python",
   "name": "python",
   "nbconvert_exporter": "python",
   "pygments_lexer": "ipython2",
   "version": "2.7.9"
  }
 },
 "nbformat": 4,
 "nbformat_minor": 0
}
