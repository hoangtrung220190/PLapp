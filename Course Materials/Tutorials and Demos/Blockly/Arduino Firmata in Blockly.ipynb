{
 "cells": [
  {
   "cell_type": "markdown",
   "metadata": { 
    "run_control": {
     "frozen": true,
     "read_only": true
    } 
   },
   "source": [
    "![Cisco Networking Academy](/nbextensions/chestnut/cisco-mwo-heading.png)"
   ]
  },
  {
   "cell_type": "markdown",
   "metadata": {},
   "source": [
    "Connect an Arduino to the Raspberry Pi using USB.\n",
    "\n",
    "Run the following to flash the Arduino with Standard Firmata."
   ]
  },
  {
   "cell_type": "code",
   "execution_count": null,
   "metadata": {
    "blockly": {
     "display": true,
     "save": "<xml xmlns=\"http://www.w3.org/1999/xhtml\"><block type=\"arduino_flash_firmata\" x=\"26\" y=\"42\"><value name=\"port\"><block type=\"text\"><field name=\"TEXT\">/dev/ttyUSB0</field></block></value></block></xml>"
    },
    "collapsed": false
   },
   "outputs": [],
   "source": [
    "import chestnut.arduino\n",
    "\n",
    "\n",
    "chestnut.arduino.flash_firmata(\"uno\", '/dev/ttyUSB0')\n"
   ]
  },
  {
   "cell_type": "markdown",
   "metadata": {},
   "source": [
    "Use Firmata to connect to the Arduino.\n",
    "\n",
    "Make pin 13 blink."
   ]
  },
  {
   "cell_type": "code",
   "execution_count": null,
   "metadata": {
    "blockly": {
     "display": true,
     "save": "<xml xmlns=\"http://www.w3.org/1999/xhtml\"><block type=\"text_print\" x=\"38\" y=\"29\"><value name=\"TEXT\"><block type=\"text\"><field name=\"TEXT\">Connecting...</field></block></value><next><block type=\"arduino_connect\"><value name=\"port\"><block type=\"text\"><field name=\"TEXT\">/dev/ttyUSB0</field></block></value><next><block type=\"arduino_pinMode\"><field name=\"mode\">1</field><value name=\"pin\"><block type=\"math_number\"><field name=\"NUM\">13</field></block></value><next><block type=\"text_print\"><value name=\"TEXT\"><block type=\"text\"><field name=\"TEXT\">Blinking...</field></block></value><next><block type=\"controls_repeat_ext\"><value name=\"TIMES\"><block type=\"math_number\"><field name=\"NUM\">5</field></block></value><statement name=\"DO\"><block type=\"arduino_digitalWrite\"><value name=\"pin\"><block type=\"math_number\"><field name=\"NUM\">13</field></block></value><value name=\"value\"><block type=\"math_number\"><field name=\"NUM\">1</field></block></value><next><block type=\"time_sleep\"><value name=\"seconds\"><block type=\"math_number\"><field name=\"NUM\">0.1</field></block></value><next><block type=\"arduino_digitalWrite\"><value name=\"pin\"><block type=\"math_number\"><field name=\"NUM\">13</field></block></value><value name=\"value\"><block type=\"math_number\"><field name=\"NUM\">0</field></block></value><next><block type=\"time_sleep\"><value name=\"seconds\"><block type=\"math_number\"><field name=\"NUM\">1</field></block></value></block></next></block></next></block></next></block></statement></block></next></block></next></block></next></block></next></block></xml>"
    },
    "collapsed": false
   },
   "outputs": [],
   "source": [
    "from pyfirmata import Arduino, util\n",
    "from time import *\n",
    "\n",
    "board = Arduino('/dev/ttyUSB0')\n",
    "\n",
    "\n",
    "print('Connecting...')\n",
    "board.digital[13].mode = 1\n",
    "print('Blinking...')\n",
    "for count in range(5):\n",
    "  board.digital[13].write(1)\n",
    "  sleep(0.1)\n",
    "  board.digital[13].write(0)\n",
    "  sleep(1)\n"
   ]
  },
  {
   "cell_type": "markdown",
   "metadata": {},
   "source": [
    "Connect a LED to a resistor to pin 9 and ground.\n",
    "\n",
    "Fade out for a PWM pin."
   ]
  },
  {
   "cell_type": "code",
   "execution_count": null,
   "metadata": {
    "blockly": {
     "display": true,
     "save": "<xml xmlns=\"http://www.w3.org/1999/xhtml\"><block type=\"text_print\" x=\"57\" y=\"49\"><value name=\"TEXT\"><block type=\"text\"><field name=\"TEXT\">Connecting...</field></block></value><next><block type=\"arduino_connect\"><value name=\"port\"><block type=\"text\"><field name=\"TEXT\">/dev/ttyUSB0</field></block></value><next><block type=\"arduino_pinMode\"><field name=\"mode\">3</field><value name=\"pin\"><block type=\"math_number\"><field name=\"NUM\">9</field></block></value><next><block type=\"text_print\"><value name=\"TEXT\"><block type=\"text\"><field name=\"TEXT\">Fading out...</field></block></value><next><block type=\"controls_for\"><field name=\"VAR\">i</field><value name=\"FROM\"><block type=\"math_number\"><field name=\"NUM\">1</field></block></value><value name=\"TO\"><block type=\"math_number\"><field name=\"NUM\">10</field></block></value><value name=\"BY\"><block type=\"math_number\"><field name=\"NUM\">1</field></block></value><statement name=\"DO\"><block type=\"arduino_analogWrite\"><value name=\"pin\"><block type=\"math_number\"><field name=\"NUM\">9</field></block></value><value name=\"value\"><block type=\"math_arithmetic\"><field name=\"OP\">MINUS</field><value name=\"A\"><block type=\"math_number\"><field name=\"NUM\">1</field></block></value><value name=\"B\"><block type=\"math_arithmetic\"><field name=\"OP\">DIVIDE</field><value name=\"A\"><block type=\"variables_get\"><field name=\"VAR\">i</field></block></value><value name=\"B\"><block type=\"math_float_from\"><value name=\"value\"><block type=\"math_number\"><field name=\"NUM\">10</field></block></value></block></value></block></value></block></value><next><block type=\"time_sleep\"><value name=\"seconds\"><block type=\"math_number\"><field name=\"NUM\">0.2</field></block></value></block></next></block></statement></block></next></block></next></block></next></block></next></block></xml>"
    },
    "collapsed": false
   },
   "outputs": [],
   "source": [
    "from pyfirmata import Arduino, util\n",
    "from time import *\n",
    "\n",
    "i = None\n",
    "\n",
    "board = Arduino('/dev/ttyUSB0')\n",
    "\n",
    "\n",
    "print('Connecting...')\n",
    "board.digital[9].mode = 3\n",
    "print('Fading out...')\n",
    "for i in range(1, 11):\n",
    "  board.digital[9].write((1 - i / (float(10))))\n",
    "  sleep(0.2)\n"
   ]
  },
  {
   "cell_type": "markdown",
   "metadata": { 
    "run_control": {
     "frozen": true,
     "read_only": true
    } 
   },
   "source": [
    "###### &copy; 2017 Cisco and/or its affiliates. All rights reserved. This document is Cisco Public."
   ]
  }
 ],
 "metadata": {
  "kernelspec": {
   "display_name": "Python 2",
   "language": "python",
   "name": "python2"
  },
  "language_info": {
   "codemirror_mode": {
    "name": "ipython",
    "version": 2
   },
   "file_extension": ".py",
   "mimetype": "text/x-python",
   "name": "python",
   "nbconvert_exporter": "python",
   "pygments_lexer": "ipython2",
   "version": "2.7.9"
  }
 },
 "nbformat": 4,
 "nbformat_minor": 0
}
