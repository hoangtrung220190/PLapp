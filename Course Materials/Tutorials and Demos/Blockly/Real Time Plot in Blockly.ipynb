{
 "cells": [
  {
   "cell_type": "markdown",
   "metadata": { 
    "run_control": {
     "frozen": true,
     "read_only": true
    } 
   },
   "source": [
    "![Cisco Networking Academy](/nbextensions/chestnut/cisco-mwo-heading.png)"
   ]
  },
  {
   "cell_type": "markdown",
   "metadata": {},
   "source": [
    "Plot 20 random data points."
   ]
  },
  {
   "cell_type": "code",
   "execution_count": null,
   "metadata": {
    "blockly": {
     "display": true,
     "save": "<xml xmlns=\"http://www.w3.org/1999/xhtml\"><block type=\"graphing_type\" x=\"37\" y=\"56\"><field name=\"type\">Line</field><value name=\"labels\"><block type=\"lists_create_with\"><mutation items=\"2\"></mutation><value name=\"ADD0\"><block type=\"text\"><field name=\"TEXT\">Label 1</field></block></value><value name=\"ADD1\"><block type=\"text\"><field name=\"TEXT\">Label 2</field></block></value></block></value><next><block type=\"controls_repeat_ext\"><value name=\"TIMES\"><block type=\"math_number\"><field name=\"NUM\">10</field></block></value><statement name=\"DO\"><block type=\"graphing_update\"><value name=\"values\"><block type=\"lists_create_with\"><mutation items=\"2\"></mutation><value name=\"ADD0\"><block type=\"math_random_int\"><value name=\"FROM\"><block type=\"math_number\"><field name=\"NUM\">1</field></block></value><value name=\"TO\"><block type=\"math_number\"><field name=\"NUM\">100</field></block></value></block></value><value name=\"ADD1\"><block type=\"math_random_int\"><value name=\"FROM\"><block type=\"math_number\"><field name=\"NUM\">1</field></block></value><value name=\"TO\"><block type=\"math_number\"><field name=\"NUM\">100</field></block></value></block></value></block></value><next><block type=\"time_sleep\"><value name=\"seconds\"><block type=\"math_number\"><field name=\"NUM\">0.5</field></block></value></block></next></block></statement></block></next></block></xml>"
    },
    "collapsed": false
   },
   "outputs": [],
   "source": [
    "import chestnut.graph as graph\n",
    "import random\n",
    "from time import *\n",
    "\n",
    "\n",
    "chart = graph.Line(['Label 1', 'Label 2'])\n",
    "for count in range(10):\n",
    "  chart.update([random.randint(1, 100), random.randint(1, 100)])\n",
    "  sleep(0.5)\n"
   ]
  },
  {
   "cell_type": "markdown",
   "metadata": { 
    "run_control": {
     "frozen": true,
     "read_only": true
    } 
   },
   "source": [
    "###### &copy; 2017 Cisco and/or its affiliates. All rights reserved. This document is Cisco Public."
   ]
  }
 ],
 "metadata": {
  "kernelspec": {
   "display_name": "Python 2",
   "language": "python",
   "name": "python2"
  },
  "language_info": {
   "codemirror_mode": {
    "name": "ipython",
    "version": 2
   },
   "file_extension": ".py",
   "mimetype": "text/x-python",
   "name": "python",
   "nbconvert_exporter": "python",
   "pygments_lexer": "ipython2",
   "version": "2.7.9"
  }
 },
 "nbformat": 4,
 "nbformat_minor": 0
}
