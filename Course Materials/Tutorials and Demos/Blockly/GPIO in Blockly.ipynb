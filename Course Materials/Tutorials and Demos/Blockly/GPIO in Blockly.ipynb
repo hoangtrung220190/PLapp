{
 "cells": [
  {
   "cell_type": "markdown",
   "metadata": { 
    "run_control": {
     "frozen": true,
     "read_only": true
    } 
   },
   "source": [
    "![Cisco Networking Academy](/nbextensions/chestnut/cisco-mwo-heading.png)"
   ]
  },
  {
   "cell_type": "markdown",
   "metadata": {},
   "source": [
    "Connect a LED to a resistor to pin 19 and ground.\n",
    "\n",
    "Make it blink."
   ]
  },
  {
   "cell_type": "code",
   "execution_count": null,
   "metadata": {
    "blockly": {
     "display": true,
     "save": "<xml xmlns=\"http://www.w3.org/1999/xhtml\"><block type=\"gpio_setmode\" x=\"38\" y=\"31\"><field name=\"mode\">GPIO.BCM</field><next><block type=\"gpio_setup\"><field name=\"mode\">GPIO.OUT</field><value name=\"channel\"><block type=\"math_number\"><field name=\"NUM\">19</field></block></value><next><block type=\"controls_repeat_ext\"><value name=\"TIMES\"><block type=\"math_number\"><field name=\"NUM\">5</field></block></value><statement name=\"DO\"><block type=\"gpio_output\"><value name=\"channel\"><block type=\"math_number\"><field name=\"NUM\">19</field></block></value><value name=\"state\"><block type=\"logic_boolean\"><field name=\"BOOL\">TRUE</field></block></value><next><block type=\"time_sleep\"><value name=\"seconds\"><block type=\"math_number\"><field name=\"NUM\">0.1</field></block></value><next><block type=\"gpio_output\"><value name=\"channel\"><block type=\"math_number\"><field name=\"NUM\">19</field></block></value><value name=\"state\"><block type=\"logic_boolean\"><field name=\"BOOL\">FALSE</field></block></value><next><block type=\"time_sleep\"><value name=\"seconds\"><block type=\"math_number\"><field name=\"NUM\">1</field></block></value></block></next></block></next></block></next></block></statement></block></next></block></next></block></xml>"
    },
    "collapsed": true
   },
   "outputs": [],
   "source": [
    "import RPi.GPIO as GPIO\n",
    "\n",
    "from time import *\n",
    "\n",
    "\n",
    "GPIO.setmode(GPIO.BCM)\n",
    "GPIO.setup(19, GPIO.OUT)\n",
    "for count in range(5):\n",
    "  GPIO.output(19, True)\n",
    "  sleep(0.1)\n",
    "  GPIO.output(19, False)\n",
    "  sleep(1)\n"
   ]
  },
  {
   "cell_type": "markdown",
   "metadata": {},
   "source": [
    "Connect a push button to pin 18.\n",
    "\n",
    "Push the button to turn on the LED."
   ]
  },
  {
   "cell_type": "code",
   "execution_count": null,
   "metadata": {
    "blockly": {
     "display": true,
     "save": "<xml xmlns=\"http://www.w3.org/1999/xhtml\"><block type=\"gpio_setmode\" x=\"49\" y=\"19\"><field name=\"mode\">GPIO.BCM</field><next><block type=\"gpio_setup\"><field name=\"mode\">GPIO.IN</field><value name=\"channel\"><block type=\"math_number\"><field name=\"NUM\">18</field></block></value><next><block type=\"gpio_setup\"><field name=\"mode\">GPIO.OUT</field><value name=\"channel\"><block type=\"math_number\"><field name=\"NUM\">19</field></block></value><next><block type=\"controls_whileUntil\"><field name=\"MODE\">WHILE</field><value name=\"BOOL\"><block type=\"logic_boolean\"><field name=\"BOOL\">TRUE</field></block></value><statement name=\"DO\"><block type=\"variables_set\"><field name=\"VAR\">state</field><value name=\"VALUE\"><block type=\"gpio_input\"><value name=\"channel\"><block type=\"math_number\"><field name=\"NUM\">18</field></block></value></block></value><next><block type=\"gpio_output\"><value name=\"channel\"><block type=\"math_number\"><field name=\"NUM\">19</field></block></value><value name=\"state\"><block type=\"variables_get\"><field name=\"VAR\">state</field></block></value><next><block type=\"time_sleep\"><value name=\"seconds\"><block type=\"math_number\"><field name=\"NUM\">0.2</field></block></value></block></next></block></next></block></statement></block></next></block></next></block></next></block></xml>"
    },
    "collapsed": false
   },
   "outputs": [],
   "source": [
    "import RPi.GPIO as GPIO\n",
    "\n",
    "from time import *\n",
    "\n",
    "state = None\n",
    "\n",
    "\n",
    "GPIO.setmode(GPIO.BCM)\n",
    "GPIO.setup(18, GPIO.IN)\n",
    "GPIO.setup(19, GPIO.OUT)\n",
    "while True:\n",
    "  state = GPIO.input(18)\n",
    "  GPIO.output(19, state)\n",
    "  sleep(0.2)\n"
   ]
  },
  {
   "cell_type": "markdown",
   "metadata": { 
    "run_control": {
     "frozen": true,
     "read_only": true
    } 
   },
   "source": [
    "###### &copy; 2017 Cisco and/or its affiliates. All rights reserved. This document is Cisco Public."
   ]
  }
 ],
 "metadata": {
  "kernelspec": {
   "display_name": "Python 2",
   "language": "python",
   "name": "python2"
  },
  "language_info": {
   "codemirror_mode": {
    "name": "ipython",
    "version": 2
   },
   "file_extension": ".py",
   "mimetype": "text/x-python",
   "name": "python",
   "nbconvert_exporter": "python",
   "pygments_lexer": "ipython2",
   "version": "2.7.9"
  }
 },
 "nbformat": 4,
 "nbformat_minor": 0
}
