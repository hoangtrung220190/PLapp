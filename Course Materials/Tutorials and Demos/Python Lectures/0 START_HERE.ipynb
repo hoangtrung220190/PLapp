{
 "cells": [
  {
   "cell_type": "markdown",
   "metadata": { 
    "run_control": {
     "frozen": true,
     "read_only": true
    } 
   },
   "source": [
    "![Cisco Networking Academy](/nbextensions/chestnut/cisco-mwo-heading.png)"
   ]
  },
  {
   "cell_type": "markdown",
   "metadata": { 
    "run_control": {
     "frozen": true,
     "read_only": true
    } 
   },
   "source": [
    "# Python Exercises\n",
    "## Introduction\n",
    "\n",
    "Python is a modern, robust, high level programming language. It is very easy to pick up even if you are completely new to programming.\n",
    "\n",
    "Following is a set of Python Exercises in a form of Jupyter notebooks:\n",
    "\n",
    "# Table of contents:\n",
    "\n",
    "* [00 This introduction with additional information below on how to get started in running python](00.ipynb)\n",
    "* [01 Basic data types and operations (numbers, strings)](01.ipynb)\n",
    "* [02 String manipulation](02.ipynb)\n",
    "* [03 Data structures: Lists and Tuples](03.ipynb)\n",
    "* [04 Data structures (continued): dictionaries](04.ipynb)\n",
    "* [05 Control statements: if, for, while, try statements](05.ipynb)\n",
    "* [06 Functions](06.ipynb)\n",
    "* [07 Classes and basic object oriented programming](07.ipynb)\n",
    "* [08 Scipy: libraries for arrays (matrices) and plotting](08.ipynb)\n",
    "* [09 Mixed Integer Linear Programming using the mymip library.](09.ipynb)\n",
    "\n",
    "This is a tutorial style introduction to Python. For a quick reminder / summary of Python syntax the following [Quick Reference Card](http://www.cs.put.poznan.pl/csobaniec/software/python/py-qrc.html) may be useful. A longer and more detailed tutorial style introduction to python is available from the python site at: https://docs.python.org/3/tutorial/\n",
    "\n",
    "Credits and source: [Andreas Ernst](http://users.monash.edu/~andrease/index.htm) at [Introduction to Python](https://gitlab.erc.monash.edu.au/andrease/Python4Maths/tree/master)"
   ]
  },
  {
   "cell_type": "markdown",
   "metadata": { 
    "run_control": {
     "frozen": true,
     "read_only": true
    } 
   },
   "source": [
    "###### &copy; 2017 Cisco and/or its affiliates. This document is Cisco Public."
   ]
  }
 ],
 "metadata": {
  "kernelspec": {
   "display_name": "Python 2",
   "language": "python",
   "name": "python2"
  },
  "language_info": {
   "codemirror_mode": {
    "name": "ipython",
    "version": 2
   },
   "file_extension": ".py",
   "mimetype": "text/x-python",
   "name": "python",
   "nbconvert_exporter": "python",
   "pygments_lexer": "ipython2",
   "version": "2.7.9"
  }
 },
 "nbformat": 4,
 "nbformat_minor": 0
}
