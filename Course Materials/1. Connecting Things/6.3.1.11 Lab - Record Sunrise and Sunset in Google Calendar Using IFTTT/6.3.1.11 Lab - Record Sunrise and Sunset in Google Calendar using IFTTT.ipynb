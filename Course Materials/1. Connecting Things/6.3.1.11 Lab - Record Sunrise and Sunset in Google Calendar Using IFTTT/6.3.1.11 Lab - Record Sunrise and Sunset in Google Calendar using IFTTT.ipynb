{
 "cells": [
  {
   "cell_type": "markdown",
   "metadata": {},
   "source": [
    "![Cisco Networking Academy](images/cisco.png)"
   ]
  },
  {
   "cell_type": "markdown",
   "metadata": {},
   "source": [
    "# Lab: Record sunrise and sunset in Google Calendar using IFTTT\n"
   ]
  },
  {
   "cell_type": "markdown",
   "metadata": {},
   "source": [
    "## Lab Topology\n",
    "![lab-topo](images/topology.png)"
   ]
  },
  {
   "cell_type": "markdown",
   "metadata": {},
   "source": [
    "## Objectives\n",
    "* Learn how to leverage public cloud services to integrate machines with cloud applications "
   ]
  },
  {
   "cell_type": "markdown",
   "metadata": {},
   "source": [
    "## Background \n",
    "In this lab you will learn how to offload the complexity of working with various cloud applications with an easy to use IFTTT (IF This Than That) script (applet). IFTTT is a public web service that enables creative control and automated interactions between various cloud based services like Twitter, Instagram, Facebook, Dropbox, Cisco Spark, etc. The interactions are defined in IFTTT using small scripts called applets – as simple as “if” something happens, “then” trigger some action.\n",
    "\n",
    "\n",
    "In this advanced lab, code implementation using the Visual Programming language might actually require an excessive amount of time to construct, therefore in this lab you will be writing a Python script directly."
   ]
  },
  {
   "cell_type": "markdown",
   "metadata": {},
   "source": [
    "## Required Resources \n",
    "* PL-Kit (Paspberry Pi and Redboard(Arduino Uno))\n",
    "* Raspberry Pi properly configured to work with PL-App\n",
    "* Wired Ethernet or Wi-Fi connection to the Internet with DHCP and no traffic filtering\n",
    "* IFTTT account\n",
    "* Google or Facebook account is OPTIONAL\n"
   ]
  },
  {
   "cell_type": "markdown",
   "metadata": {},
   "source": [
    "# Task 1: Setting up an IFTTT user account and the Maker channel\n",
    "\n",
    "## Step 1: Register a free user account at IFTTT\n",
    "* If you currently do not have an IFTTT user account, go to https://ifttt.com/join to get one for free. You could also use a Google account or Facebook account to complete this activity.\n",
    "\n",
    "## Step 2: Setup the Maker channel recipe integrating Google Calendar\n",
    "* Make sure you are signed in to either IFTTT, Google, or Facebook on the IFTTT.com website.\n",
    "* Click My Applets\n",
    "![maker1](images/maker1.png)\n",
    "* Click New Applet\n",
    "![maker2](images/maker2.png)\n",
    "* Create a Maker channel “this” part:\n",
    "![maker3](images/maker3.png)\n",
    "* Search for the Webhooks service\n",
    "![maker4](images/maker4.png)\n",
    "* Choose to receive a web request\n",
    "![maker6](images/maker6.png)\n",
    "* Specify the name of an event for the web request (you will use this name in the GET Request URL):\n",
    "For this application, the name of the event is “SunRise” and “SunSet” – the first one triggers a Sun Rise action, the second triggers the Sun Set action.\n",
    "![maker7](images/maker7.png)\n",
    "* Continue by adding the “that” part of the recipe:\n",
    "![maker8](images/maker8.png)\n",
    "* Search for Google Calendar to choose an action.\n",
    "![maker9](images/maker9.png)\n",
    "* For the Google Calendar, select the Quick add event action.\n",
    "![maker11](images/maker11.png)\n",
    "* Specify the text of the Quick add event – this will be the text of an event created in your Google Calendar:\n",
    "![maker12](images/maker12.png)\n",
    "* Complete the creation of the applet:\n",
    "![maker13](images/maker13.png)\n",
    "* Do not forget to redo these all steps for the SunSet event.\n",
    "![maker14](images/maker14.png)\n",
    "\n",
    "\n",
    "## Step 3: Getting the IFTTT Maker Channel’s Secret Key\n",
    "* Go to https://ifttt.com/maker_webhooks to get your Maker Channel’s secret Key:\n",
    "![maker15](images/maker15.png)\n",
    "* Click Settings to be shown the Maker Channel's secret key.\n",
    "![maker16](images/maker16.png)\n",
    "* You will need the Maker Channel Secret Key every time you want to trigger an event by using an HTTP/S GET/POST URL:\n",
    "`https://maker.ifttt.com/trigger/{event}/with/key/IBX_vJGs2xa3li6yOem***************MidP7vakzuQq` \n",
    "where `{event}` is the event name you want to trigger (e.g. SunRise or SunSet) followed at the end of the URL with your Secure Key."
   ]
  },
  {
   "cell_type": "markdown",
   "metadata": {},
   "source": [
    "## Task 2: Connecting the electronic circuits\n",
    "\n",
    "### Step 1: Using a voltage divider to connect a light sensor (photoresistor) to Arduino\n",
    "\n",
    "Using a breadboard, connect a photoresistor and one 10kOhm resistor. The junction point between the photoresistor and the resistor is connected to the analog A0 input pin of the Arduino board. The ground pin of the board is connected to the other side of the resistor, while the +5V pin of the board is connected to ther other side of the photoresistor. The more light comes to the head of the photoresistor, the less the resistivity it has. That means that with more light, the A0 analog input pin will measure higher voltage than in the dark conditions.\n",
    "#### Arduino Schematics:\n",
    "![arduino-with-a-photoresistor](images/arduino-with-a-photoresistor.png \"Arduino Schematics\")\n",
    "#### Arduino Physical Layout:\n",
    "![arduino-with-a-photoresistor-fritzing](images/arduino-with-a-photoresistor-fritzing.png \"Arduino Physical Layout\")\n",
    "\n",
    " \n",
    "### Step 2: Connect the Arduino with the Raspberry Pi\n",
    "\n",
    "Using a USB cable, connect the Arduino to the Raspberry Pi. Since the Arduino is powered directly from this USB connection, there is no need to provide any additional power to the Arduino. Only provide power to the Raspberry Pi using the micro-USB port from an external power adapter. The USB cable between the Arduino and the Raspberry Pi is not only used to power the Arduino, but it also provides a serial communication channel to control and monitor the Arduino from applications running on the Raspberry Pi.\n",
    "#### Raspberry Pi and Arduino:\n",
    "![rasppi-fritzing](images/rasppi-fritzing.png \"Raspberry Pi with Arduino Physical Layout\")"
   ]
  },
  {
   "cell_type": "markdown",
   "metadata": {},
   "source": [
    "## Task 3: Software to connect to dots\n",
    "### Step 1: Setup\n",
    "As seen on the previous task, the analog sensors, in our case a photoresistor, is connected to the Arduino board using the Analog Input pin number 0 (A0). Based on the light conditions above the photoresistos, the A0 pin will measure input Voltage values from 0 to +5V and transform it into its digital values from 0 to 1023.\n",
    "\n",
    "Since the Arduino has no direct network connection, the data read by the A0 pin must be transfered to a Raspberry Pi board which is connected either to the local Wi-Fi or to the local Ethernet network.\n",
    "This connection is established using the USB cable between the Raspberry Pi and the Arduino. The same USB cable is used to power the Arduino board with the connected sensors, as well as to provide a serial transport channel between the Raspberry Pi and Arduino.\n",
    "The serial transport channel between the Arduino and Raspbery Pi in Linux is usually identified as a device in the /dev directory with a name ttyACM0 or ttyUSB0 (/dev/ttyACM0 or /dev/ttyUSB0).\n",
    "\n",
    "To idenfity the specific serial device name, connect the Arduino to the Raspberry Pi using the USB cable and execute the following code on a Linux terminal to identify the Arduino's serial device name:"
   ]
  },
  {
   "cell_type": "code",
   "execution_count": null,
   "metadata": {
    "collapsed": true
   },
   "outputs": [],
   "source": [
    "%%bash\n",
    "# ^^^ The commands below are to be executed as Linux Bash commands. \n",
    "# You can get the same output by opening a terminal connection to the device and executing these commands manually.\n",
    "\n",
    "dmesg | grep -v disconnect | grep -Eo \"tty(ACM|USB).\" | tail -1"
   ]
  },
  {
   "cell_type": "markdown",
   "metadata": {},
   "source": [
    "A more advanced bash script that not only displays the serial device name, but the device details can be found and executed below:"
   ]
  },
  {
   "cell_type": "code",
   "execution_count": null,
   "metadata": {
    "collapsed": true
   },
   "outputs": [],
   "source": [
    "%%bash\n",
    "# ^^^ The commands below are to be executed as Linux Bash commands. \n",
    "# You can get the same output by opening a terminal connection to the device and executing these commands manually.\n",
    "\n",
    "for sysdevpath in $(find /sys/bus/usb/devices/usb*/ -name dev); do\n",
    "    (\n",
    "        syspath=\"${sysdevpath%/dev}\"\n",
    "        devname=\"$(udevadm info -q name -p $syspath)\"\n",
    "        [[ \"$devname\" == \"bus/\"* ]] && continue\n",
    "        eval \"$(udevadm info -q property --export -p $syspath)\" 2>/dev/null\n",
    "        [[ -z \"$ID_SERIAL\" ]] && continue\n",
    "        echo \"/dev/$devname - $ID_SERIAL\"\n",
    "    )\n",
    "done"
   ]
  },
  {
   "cell_type": "markdown",
   "metadata": {},
   "source": [
    "Once a Arduino's serial device name has been identified, you can continue by implementing an Arduino serial communication protocol called Firmata.\n",
    "[Firmata](https://github.com/firmata/arduino) is a protocol for communicating with microcontrollers from software on a host computer. The protocol can be implemented in firmware on any microcontroller architecture as well as software on any host computer software package.\n",
    "\n",
    "Firmata has Client Libraries supporting Python as well as multiple other programming languages. The Python library is called `pyfirmata`. To verify if this library is available on your system, execute the Python code in the cell below. The code will try to load the pyfirmata library on the local device. If no error is displayed, the pyfirmata library has been sucssessfully loaded into the Python process."
   ]
  },
  {
   "cell_type": "code",
   "execution_count": null,
   "metadata": {
    "collapsed": true
   },
   "outputs": [],
   "source": [
    "import pyfirmata"
   ]
  },
  {
   "cell_type": "markdown",
   "metadata": {},
   "source": [
    "Having `pyfirmata` on the device enables it to use the firmata protocol to control the GPIO pins of the connected Arduino boards.\n",
    "To make sure the Arduino board understands the firmata protocol and can be controlled using firmata, you have to flash the firmata firmware to your Arduino board.\n",
    "\n",
    "To do so, you can use the Python code in the cell below. Please update the code that will try to upload the firmware with the name of the Arduino's serial device that you identified in the cell above:\n",
    "`chestnut.arduino.flash_firmata(board='uno', port='/dev/ttyXXX', debug=True)`\n",
    "\n",
    "Please take a moment once you execute the cell below as it might take up to 1-2 minutes to flash the new firmare.\n"
   ]
  },
  {
   "cell_type": "code",
   "execution_count": null,
   "metadata": {
    "collapsed": true
   },
   "outputs": [],
   "source": [
    "import chestnut.arduino\n",
    "\n",
    "chestnut.arduino.flash_firmata(board='uno', port='/dev/ttyUSB0', debug=True)\n",
    "#                                                      ^^^^^^ set this with the ttyACM0 or ttyUSB0 name of your Arduino device"
   ]
  },
  {
   "cell_type": "markdown",
   "metadata": {},
   "source": [
    "To verify that the Firmata protocol is operational between the Raspberry Pi and the Arduino, use the following simple code to to import the required fuctions from the `pyfirmata` library and then setup a connection to an Arduino board, identified as a serial device from above."
   ]
  },
  {
   "cell_type": "code",
   "execution_count": null,
   "metadata": {
    "collapsed": true
   },
   "outputs": [],
   "source": [
    "arduinoBoard = pyfirmata.Arduino('/dev/ttyUSB0')\n",
    "#                                      ^^^^^^ set this with the ttyACM0 or ttyUSB0 name of your Arduino device"
   ]
  },
  {
   "cell_type": "markdown",
   "metadata": {},
   "source": [
    "## Step 2: Verify board communication\n",
    "A successfull execution of the cell above will set a an object variable `arduinoBoard` that is used to interact with the Arduino board.\n",
    "\n",
    "The following code can be used to blink the Arduino's onboard LED connected to GPIO PIN number 13. Executing this code verifies that the board communication is fully functional from our Python code.\n",
    "\n",
    "Once it is verified that it works, stop the code in the cell, otherwise it will continue running forever, or at least until your device is restarted."
   ]
  },
  {
   "cell_type": "code",
   "execution_count": null,
   "metadata": {
    "collapsed": true
   },
   "outputs": [],
   "source": [
    "# Since we want to add some delay into the actual blinking, we must also import the `time` python library:\n",
    "import time\n",
    "\n",
    "arduinoBoard = pyfirmata.Arduino('/dev/ttyUSB0')\n",
    "#                               ^^^^^^ set this with the ttyACM0 or ttyUSB0 name of your Arduino device\n",
    "\n",
    "# Define local variables that will act as the digital output pins:\n",
    "#  digital output pin number 13:\n",
    "pin13 = arduinoBoard.get_pin(\"d:13:o\")\n",
    "#                                 ^ o = output, i = input\n",
    "#                               ^ 13 = GPIO pin number\n",
    "#                             ^ d = digital GPIO pin\n",
    "\n",
    "time.sleep(.4)\n",
    "\n",
    "while True:\n",
    "    try:\n",
    "        print (\"ON\")\n",
    "        pin13.write(1)\n",
    "        time.sleep(1)\n",
    "        print (\"OFF\")\n",
    "        pin13.write(0)\n",
    "        time.sleep(1)\n",
    "    except KeyboardInterrupt:\n",
    "        pin13.write(0)\n",
    "        break"
   ]
  },
  {
   "cell_type": "markdown",
   "metadata": {},
   "source": [
    "Update the code in the cell above to double the frequency of the blinking LED.\n"
   ]
  },
  {
   "cell_type": "markdown",
   "metadata": {},
   "source": [
    "## Step 3: Reading data from analog sensors\n",
    "\n",
    "The Python code below reads data from sensors that are connected to the analog input pins of the Arduino board. \n",
    "\n",
    "The sensor data read directly from the board using the firmata protocol (`analog_0.read()`) are returned as `float` numbers in an interval `<0.0 - 1.0>`. These values are normalized to `integers` in an interval `<0, 1023>`."
   ]
  },
  {
   "cell_type": "code",
   "execution_count": null,
   "metadata": {
    "collapsed": true
   },
   "outputs": [],
   "source": [
    "arduinoBoard = pyfirmata.Arduino('/dev/ttyUSB0')\n",
    "#                                 ^^^^^^ set this with the ttyACM0 or ttyUSB0 name of your Arduino device\n",
    "\n",
    "# To use Arduino's analog ports, it is handy to start an iterator thread. \n",
    "# Otherwise the board will keep sending data to your serial, until it overflows:\n",
    "it = pyfirmata.util.Iterator(arduinoBoard)\n",
    "it.start()\n",
    "\n",
    "# Define local variables that will act as the analog input pins:\n",
    "#  analog input pin number 0:\n",
    "analog_0 = arduinoBoard.get_pin('a:0:i')\n",
    "#                                    ^ i = input\n",
    "#                                  ^ 0 = analog input pin number\n",
    "#                                ^ a = analog input pin\n",
    "\n",
    "# Let's start a never ending loop:\n",
    "while True:\n",
    "# where we try to read the analog input values:\n",
    "    try:\n",
    "        print (analog_0.read())\n",
    "        analog_0_value = round((analog_0.read() or 0) * 1023)\n",
    "        print (\"analog input 0 = \" + str(analog_0_value))\n",
    "        time.sleep(0.5)\n",
    "    except KeyboardInterrupt:\n",
    "        break"
   ]
  },
  {
   "cell_type": "markdown",
   "metadata": {},
   "source": [
    "To visualize sensor data, a `chestnut.graph` library provides the output in the form of a live graph.\n",
    "\n",
    "The code below reads and visualizes data from the light sensor connected to analog input pin number 0:"
   ]
  },
  {
   "cell_type": "code",
   "execution_count": null,
   "metadata": {
    "collapsed": true
   },
   "outputs": [],
   "source": [
    "import chestnut.graph as graph\n",
    "import pyfirmata\n",
    "import time\n",
    "\n",
    "# Define a live graph to be displayed below this cell:\n",
    "lightGraph = graph.Line(['Light'])\n",
    "\n",
    "arduinoBoard = pyfirmata.Arduino('/dev/ttyUSB0')\n",
    "#                                     ^^^^^^ set this with the ttyACM0 or ttyUSB0 name of your Arduino device\n",
    "\n",
    "# To use Arduino's analog ports, it is handy to start an iterator thread. \n",
    "# Otherwise the board will keep sending data to your serial, until it overflows:\n",
    "it = pyfirmata.util.Iterator(arduinoBoard)\n",
    "it.start()\n",
    "\n",
    "# Define local variables that will act as the analog input pins:\n",
    "#  analog input pin number 0 with a light sensor:\n",
    "analog_0 = arduinoBoard.get_pin('a:0:i')\n",
    "#                                    ^ i = input\n",
    "#                                  ^ 0 = analog input pin number\n",
    "#                                ^ a = analog input pin\n",
    "\n",
    "# Let's start a never ending loop:\n",
    "while True:\n",
    "# where we try to read the analog input values:\n",
    "    try:\n",
    "        # light sensor values normalized to <0, 1023>\n",
    "        light_value = round((analog_0.read() or 0) * 1023)\n",
    "        # add a new point to a graph:\n",
    "        lightGraph.update([light_value])\n",
    "        time.sleep(0.5)\n",
    "    except KeyboardInterrupt:\n",
    "        break"
   ]
  },
  {
   "cell_type": "markdown",
   "metadata": {},
   "source": [
    "## Step 4: Send an IFTTT request from Python\n",
    "\n",
    "To trigger an IFTTT event using the Maker ITFFF channel, you have to open an HTTP connection to  `https://maker.ifttt.com/trigger/{event}/with/key/d******PeZK2******` \n",
    "where `{event}` is the event name you want to trigger (e.g. SunRise or SunSet) followed at the end of the URL with your Secure Key.\n",
    "\n",
    "Set the `iFTTTMakerSecretKey` variable to own IFTTT Maker Channel's Secure Key. \n",
    "\n",
    "In Python, the `requests` library provides functions to work with HTTP connections. In the code below, the `requests.get(url)` function is being used which expects as the `url` parameter a valid http addess where he will try to connect and download the content.\n",
    "\n",
    "Passing the `requests.get(url)` fuction an URL pointing to the IFTTT Maker's Channel URL to record the SunSet and SunRise will trigger the IFTTT procedures. Executing the code below should therefore record in your Google Calendar a SunRise event. Please execute the cell and verify it with on your Google Calendar:"
   ]
  },
  {
   "cell_type": "code",
   "execution_count": null,
   "metadata": {
    "collapsed": true
   },
   "outputs": [],
   "source": [
    "import requests # web http requests library\n",
    "\n",
    "# copy here your personal Maker Secret Key from https://ifttt.com/maker\n",
    "#  e.g.: iFTTTMakerSecretKey = \"lBX_vJGs2xa******************P7bakzuQq\"\n",
    "iFTTTMakerSecretKey = \"lBX_vJGs2xa******************P7bakzuQq\"\n",
    "\n",
    "# The IFTTT Maker Channel URLs as configured in your IFTTT recipes for SunRise and SunSet\n",
    "iFTTTSunRiseURL = \"https://maker.ifttt.com/trigger/SunRise/with/key/\" + iFTTTMakerSecretKey\n",
    "iFTTTSunSetURL  = \"https://maker.ifttt.com/trigger/SunSet/with/key/\"  + iFTTTMakerSecretKey\n",
    "\n",
    "r = requests.get(iFTTTSunRiseURL)\n",
    "# if the status_code is different from 200, something went wrong:\n",
    "print (\"The resulting HTTP GET status code was \" + str(r.status_code))\n"
   ]
  },
  {
   "cell_type": "markdown",
   "metadata": {},
   "source": [
    "## Step 5: Put it all together\n",
    "\n",
    "The code in the cell below contains all the required parts to build a Python application that will read data on the RaspPi from analog sensors connected to Arduino boards using the firmata protocol. It will then process the sensor data and, if needed, trigger an HTTP request to IFTTT for additional automation.\n",
    "\n",
    "Execute the code cell below and, while the code is running, cover and uncover the light sensor. Compare the values in the code cell output when the sensor is covered to the values when the sensor is not covered. If the threshold value is not approximately midway between the highest and lowest light level values, adjust the value of the lightSensorValueThreshold variable to make it so."
   ]
  },
  {
   "cell_type": "code",
   "execution_count": null,
   "metadata": {
    "collapsed": true
   },
   "outputs": [],
   "source": [
    "import pyfirmata  # RPi to Arduino over the Firmata serial communication library\n",
    "import time       # time.sleep(int seconds)\n",
    "import requests   # web http requests library\n",
    "\n",
    "# copy here your personal Maker Secret Key from https://ifttt.com/maker\n",
    "#  e.g.: iFTTTMakerSecretKey = \"lBX_vJGs2xa******************P7bakzuQq\"\n",
    "iFTTTMakerSecretKey = \"lBX_vJGs2xa******************P7bakzuQq\"\n",
    "# The IFTTT Maker Channel URLs as configured in your IFTTT recipes for SunRise and SunSet\n",
    "iFTTTSunRiseURL = \"https://maker.ifttt.com/trigger/SunRise/with/key/\" + iFTTTMakerSecretKey\n",
    "iFTTTSunSetURL  = \"https://maker.ifttt.com/trigger/SunSet/with/key/\"  + iFTTTMakerSecretKey\n",
    "\n",
    "# set the initial value of the lightSensorValue variable which holds the value read from the sensor\n",
    "lightSensorValue = 0\n",
    "# threshold number differenciating light from dark - e.g. sunrise from sunset \n",
    "\n",
    "lightSensorValueThreshold = 500\n",
    "\n",
    "# define an Arduino board connected as a /dev/ttyXXXX device:\n",
    "arduinoBoard = pyfirmata.Arduino('/dev/ttyUSB0')\n",
    "#                               ^^^^^^ set this with the ttyACM0 or ttyUSB0 name of your Arduino device\n",
    "\n",
    "# start the communication between the RPi and Arduino using the Firmata serial protocol\n",
    "arduinoReader = pyfirmata.util.Iterator(arduinoBoard) \n",
    "arduinoReader.start()\n",
    "\n",
    "# map the lightSensorInputAnalogPin variable to a physical Analog (a) Pin Number 0 (0) as an Input (i)\n",
    "lightSensorInputAnalogPin = arduinoBoard.get_pin(\"a:0:i\")\n",
    "\n",
    "# before reading the very first input values from the Arduino, wait at least one second\n",
    "#  this is needed to initialize the communication, for once we read the input, the values are valid \n",
    "time.sleep(1)\n",
    "\n",
    "# this variable holds the value of previous state\n",
    "previousStateOfLight = None\n",
    "# loop forever\n",
    "while True:\n",
    "    # once we read the analog input pin value, normalize it from the returned values <0.0,1.0> to <0,1023>\n",
    "    lightSensorValue = round((lightSensorInputAnalogPin.read() or 0) * 1023)\n",
    "    print (\"The current light value = \" + str(lightSensorValue))\n",
    "    # the ineresting logic starts here:\n",
    "    #  once a threshold value is reached with the current measurement, check what was the previous state\n",
    "    #  based on a previous state, if needed, trigger an action - update a calendar\n",
    "    if(lightSensorValue > lightSensorValueThreshold):\n",
    "        if(previousStateOfLight == False):\n",
    "            print (\"SunRise is here!\")\n",
    "            # using the requests library, execute an HTTP GET request for the specified URL \n",
    "            r = requests.get(iFTTTSunRiseURL)\n",
    "            # if the status_code is different from 200, something went wrong:\n",
    "            print (\"The resulting HTTP GET status code was \" + str(r.status_code))\n",
    "            # update the state of the previousStateOfLight variable with the current state \n",
    "        previousStateOfLight = True\n",
    "    else:\n",
    "        if(previousStateOfLight == True):\n",
    "            print (\"SunSet is here!\")\n",
    "            # using the requests library, execute an HTTP GET request for the specified URL \n",
    "            r = requests.get(iFTTTSunSetURL)\n",
    "            # if the status_code is different from 200, something went wrong:\n",
    "            print (\"The resulting HTTP GET status code was \" + str(r.status_code))\n",
    "        # update the state of the previousStateOfLight variable with the current state \n",
    "        previousStateOfLight = False\n",
    "    # be nice - it is not worth to use the whole CPU just to have precisions at miliseconds level\n",
    "    #  by running the loop itterations as fast as possible \n",
    "    # pause this loop for at least one second\n",
    "    time.sleep(1)\n"
   ]
  },
  {
   "cell_type": "markdown",
   "metadata": {
    "collapsed": true
   },
   "source": [
    "Open your Google Calendar at calendar.google.com. You should see multiple entries which allign with the entries above. When the light reaches a certain high threshold. A SunRise event is written to the Google Calendar. When the light reaches a certain low threshold, a SunSet event is written to the Google Calendar. I fyou are having trouble seing the events, click the Agenda button. You should see all the SunRise and SunSet events that occurred recently.\n",
    "\n",
    "## Step 6: Troubleshooting\n",
    "\n",
    "If you cannot see the entries, go to https://ifttt.com/google_calendar and click Settings\n",
    "![calendar](images/calendar1.png)\n",
    "\n",
    "Click on Edit connection\n",
    "![calendar](images/calendar2.png)\n",
    "\n",
    "Click on the correct Google account\n",
    "![calendar](images/calendar3.png)\n",
    "\n",
    "Click on Allow\n",
    "![calendar](images/calendar4.png)\n",
    "\n",
    "Repeat the execution of the code in Step 5."
   ]
  },
  {
   "cell_type": "markdown",
   "metadata": {},
   "source": [
    "## Reflection\n",
    "What other IFTTT applications could the photoresistor setup be used for?  "
   ]
  },
  {
   "cell_type": "markdown",
   "metadata": {
    "collapsed": true
   },
   "source": [
    "###### &copy; 2017 Cisco and/or its affiliates. All rights reserved. This document is Cisco Public."
   ]
  }
 ],
 "metadata": {
  "anaconda-cloud": {},
  "kernelspec": {
   "display_name": "Python 3",
   "language": "python",
   "name": "python3"
  },
  "language_info": {
   "codemirror_mode": {
    "name": "ipython",
    "version": 3
   },
   "file_extension": ".py",
   "mimetype": "text/x-python",
   "name": "python",
   "nbconvert_exporter": "python",
   "pygments_lexer": "ipython3",
   "version": "3.5.3"
  }
 },
 "nbformat": 4,
 "nbformat_minor": 1
}
