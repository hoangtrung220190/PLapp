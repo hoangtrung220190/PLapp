{
 "cells": [
  {
   "cell_type": "markdown",
   "metadata": {},
   "source": [
    "![Cisco Networking Academy](images/cisco.png)"
   ]
  },
  {
   "cell_type": "markdown",
   "metadata": {},
   "source": [
    "# Lab - Interacting with a physical world from Cisco Spark\n",
    "\n",
    "\n",
    "### Topology\n",
    "![Topology](images/topology.png)\n",
    "\n",
    "### Objectives\n",
    " * Build a Prototype Circuit\n",
    " * Use the Cisco Spark RESTful API\n",
    " * Build a simple messaging \"bot\" to interact with the physical world\n",
    "\n",
    "### Background / Scenario\n",
    "In this lab, you will learn how to build a simple messaging \"bot\". The messaging bot will listen to commands on Cisco Spark and control the physical world represented by the GPIO pins of the Raspberry Pi.\n",
    "\n",
    "### Required Resources\n",
    " * PC with Internet Access\n",
    " * Ethernet or Wi-Fi based connection to the Internet with DHCP and no traffic filtering\n",
    " * Raspberry Pi that is configured and imaged for PL-App access\n",
    " * Breadboard, resistors, LEDs, wires"
   ]
  },
  {
   "cell_type": "markdown",
   "metadata": {},
   "source": [
    "## Part 1:\tBuilding the Electronic Circuit\n",
    "\n",
    "### Step 1:\tBuild the prototyping circuit on the breadboard.\n",
    "\n",
    " 1.\tSelect 1 – 330 Ohm (Ω) resistor, 1 LED, 1 red jumper wire, 1 black jumper wire from the Raspberry Pi starter kit.\n",
    " 2.\tInsert the LED onto the breadboard. The cathode leg is connected to c13 and the anode leg is to be connected c14. \n",
    " 3.\tInsert the resistor onto the breadboard into the b9 and b13 connectors.\n",
    "\n",
    "### Step 2:\tComplete the prototyping circuit by connecting it to the Raspberry Pi.\n",
    "Note: The GPIO pins on the Raspberry Pi are male. If available, use male to female jumper wires to connect from the breadboard to the Raspberry Pi. Otherwise, use the GPIO ribbon cable, provided in the starter kit, to convert the GPIO pins to female connectors.\n",
    " 1.\tConnect one end of the black jumper wire to the breadboard a9 connector and the other end to GPIO Physical pin 9 on the Raspberry Pi. \n",
    " 2.\tConnect one end of the red jumper wire to the breadboard a14 connector and the other end to GPIO Physical pin 11 (BCM17) on the Raspberry Pi.\n",
    " \n",
    "![Raspberry Pi  with LED and Breadboard](images/rpi_gpio_breadboard_led.png)\n",
    "![Raspberry Pi Pinout](images/Raspberry_Pi_3_Model_B_pinout.png)"
   ]
  },
  {
   "cell_type": "markdown",
   "metadata": {},
   "source": [
    "### Step 3: Blink the LED\n",
    " \n",
    " 1. Import the `RPi.GPIO` Python Module to interact with the GPIO pins of the Raspberry Pi.\n",
    " 2. Set the pin numbering scheme to BCM\n",
    " 3. Set the pin with the LED to be OUTput."
   ]
  },
  {
   "cell_type": "code",
   "execution_count": null,
   "metadata": {
    "collapsed": true
   },
   "outputs": [],
   "source": [
    "# Import the GPIO modules to control the GPIO pins of the Raspberry Pi\n",
    "import RPi.GPIO as GPIO\n",
    "# Set the desired pin numbering scheme:\n",
    "GPIO.setmode(GPIO.BCM)\n",
    "\n",
    "\n",
    "# GPIO PIN where the LED is connected \n",
    "#  pin numbering based on the BCM scheme\n",
    "LEDPin = 17\n",
    "\n",
    "# Setup the direction of the GPIO pin - either INput or OUTput \n",
    "GPIO.setup(LEDPin, GPIO.OUT)"
   ]
  },
  {
   "cell_type": "markdown",
   "metadata": {},
   "source": [
    " 2. Execute the cell below to verify the LED is blinking and that the GPIO access is working."
   ]
  },
  {
   "cell_type": "code",
   "execution_count": null,
   "metadata": {
    "collapsed": true
   },
   "outputs": [],
   "source": [
    "import time\n",
    "\n",
    "for i in range(5):\n",
    "    print(\"ON\")\n",
    "    GPIO.output(LEDPin, True)\n",
    "    time.sleep(1)\n",
    "    print(\"OFF\")\n",
    "    GPIO.output(LEDPin, False)\n",
    "    time.sleep(1)"
   ]
  },
  {
   "cell_type": "markdown",
   "metadata": {},
   "source": [
    "## Part 2: Connecting to a Cisco Spark space\n",
    "\n",
    "### Step 1:  Get Cisco Spark API Token Key\n",
    "\n",
    "The Cisco Spark RESTful API is authenticating all requests using a Token Key. To get the Token Key associated with your account, follow the steps bellow:\n",
    "1. Browse to the website https://developer.ciscospark.com and login to your Spark account. \n",
    "2. If you don't have an account, [please create one](https://web.ciscospark.com/signin).\n",
    "3. Get the Cisco Spark API KEY (personal access token)\n",
    "![Spark Access Token](images/spark-get-access-token.png)\n",
    "\n",
    "4. Learn more about the SPARK APIs from the [Spark API Quick Reference](https://developer.ciscospark.com/quick-reference.html)\n",
    "\n",
    "5. Enter your Token Key in the cell below and execute it to define the `sparkAuthorizationKey` variable that will be used to authenticate your reqeusts in the upcoming steps."
   ]
  },
  {
   "cell_type": "code",
   "execution_count": null,
   "metadata": {
    "collapsed": true
   },
   "outputs": [],
   "source": [
    "# Define a local variable in Python that will hold our Authentication API KEY:\n",
    "sparkAuthorizationKey = 'Bearer YjcxZDkxMTItMWFhMy00NjQ1LTxxxxxxxxxxxxxxxxxxxxxxxxxxxxxxxxxxxxxxxx';"
   ]
  },
  {
   "cell_type": "markdown",
   "metadata": {},
   "source": [
    "*NOTE: The Cisco Spark Access Token expires in 2 years and gets imediatelly inactivated when you log out from developer.ciscospark.com. If the code returns a [401 error code](https://developer.ciscospark.com/errors.html), you may need to create a new token and modify the code for it to work correctly.*"
   ]
  },
  {
   "cell_type": "markdown",
   "metadata": {},
   "source": [
    "### Step 2: Import the needed Python modules\n",
    "\n",
    "The Python's `requests` module provides an easy to use HTTP library to send and receive messages to web servers. Since  RESTful API services, such as Cisco Spark APIs, are implemented as small web servers, this is an essential module.\n",
    "\n",
    "Most of the messages that are exchanged between the API client and API server have a special formatting. The most common are XML and JSON. The Cisco Spark API uses JSON to encode messages. To work with JSON encoded data, in Python import the `json` module."
   ]
  },
  {
   "cell_type": "code",
   "execution_count": null,
   "metadata": {
    "collapsed": true
   },
   "outputs": [],
   "source": [
    "import requests\n",
    "import json\n",
    "import time"
   ]
  },
  {
   "cell_type": "markdown",
   "metadata": {},
   "source": [
    "### Step 3: Access the API Endpoints - rooms\n",
    " 1. Use the following Python code to access the `rooms` API Endpoint. The HTTP `GET` request returns all the Spark Rooms you are a member of.\n",
    " 2. The local object `r` will hold the response."
   ]
  },
  {
   "cell_type": "code",
   "execution_count": null,
   "metadata": {
    "collapsed": true
   },
   "outputs": [],
   "source": [
    "# Using the requests library, create a new HTTP GET Request against the Spark API Endpoint for Spark Rooms:\n",
    "#  the local object \"r\" will hold the returned data:\n",
    "r = requests.get(   \"https://api.ciscospark.com/v1/rooms\",\n",
    "                    headers={'Authorization':sparkAuthorizationKey}\n",
    "                )\n",
    "\n",
    "# Check if the response from the API call was OK (resp. code 200)\n",
    "if(r.status_code != 200):\n",
    "    print(\"Something wrong has happened:\")\n",
    "    print(\"ERROR CODE: {} \\nRESPONSE: {}\".format(r.status_code, r.text))\n",
    "    assert()"
   ]
  },
  {
   "cell_type": "markdown",
   "metadata": {},
   "source": [
    " 3. Use the following code to see the contents of the returned data. The returned data from the Spark API are usually formatted using the JSON encoding. The `json.dumps()` function generates a more easily readable output."
   ]
  },
  {
   "cell_type": "code",
   "execution_count": null,
   "metadata": {
    "collapsed": true
   },
   "outputs": [],
   "source": [
    "# See what is in the JSON data:\n",
    "\n",
    "jsonData = r.json()\n",
    "\n",
    "print(\n",
    "    json.dumps(\n",
    "        jsonData,\n",
    "        indent=4\n",
    "    )\n",
    ")"
   ]
  },
  {
   "cell_type": "markdown",
   "metadata": {},
   "source": [
    " 4. To programmatically go through the list of rooms, you can use the following code:"
   ]
  },
  {
   "cell_type": "code",
   "execution_count": null,
   "metadata": {
    "collapsed": true
   },
   "outputs": [],
   "source": [
    "rooms = r.json()['items']\n",
    "for room in rooms:\n",
    "    print (\"Room name: '\" + room['title'] + \"' ID: \" + room['id'])"
   ]
  },
  {
   "cell_type": "markdown",
   "metadata": {},
   "source": [
    " 5. To programmatically identify a room with a specific name, we can use the following code.\n",
    " \n",
    " *NOTE: Do not forget to update the `roomNameToSearch` variable with a name of valid room from your Spark account*"
   ]
  },
  {
   "cell_type": "code",
   "execution_count": null,
   "metadata": {
    "collapsed": true
   },
   "outputs": [],
   "source": [
    "# Replace contents of this varialble with a real room name from your Cisco Spark account\n",
    "roomNameToSearch = 'Jozef'\n",
    "\n",
    "# Define a variable that will hold the roomId \n",
    "roomIdToMessage = None\n",
    "\n",
    "rooms = r.json()['items']\n",
    "for room in rooms:\n",
    "    #print \"Room name: '\" + room['title'] + \"' ID: \" + room['id']\n",
    "    if(room['title'].find(roomNameToSearch) != -1):\n",
    "        print (\"Found rooms with the word \" + roomNameToSearch)\n",
    "        print (\"Room name: '\" + room['title'] + \"' ID: \" + room['id'])\n",
    "        roomIdToMessage = room['id']\n",
    "        roomTitleToMessage = room['title']\n",
    "        break\n",
    "\n",
    "if(roomIdToMessage == None):\n",
    "    print(\"Did not found any room with \" + roomNameToSearch + \" name in it.\")\n",
    "else:\n",
    "    print(\"A valid room has been found and this is the room id: \" + roomIdToMessage)"
   ]
  },
  {
   "cell_type": "markdown",
   "metadata": {},
   "source": [
    " 6. Vefify that the `roomIdToMessage` contains a valid room ID:"
   ]
  },
  {
   "cell_type": "code",
   "execution_count": null,
   "metadata": {
    "collapsed": true
   },
   "outputs": [],
   "source": [
    "print(roomIdToMessage)"
   ]
  },
  {
   "cell_type": "markdown",
   "metadata": {},
   "source": [
    "### Step 4: Access the API Endpoints - messages\n",
    " 1. Use the following Python code to access the `messages` API Endpoint. The HTTP `GET` request returns all the messages in the room specified in the GET parameters.\n",
    " 2. The local object `r` will hold the response."
   ]
  },
  {
   "cell_type": "code",
   "execution_count": null,
   "metadata": {
    "collapsed": true
   },
   "outputs": [],
   "source": [
    "# define the mandatory or optional GET parameters for the `messages` API endpoint:\n",
    "getMessagesUrlParameters = {\n",
    "            # mandatory parameter - the room ID\n",
    "            \"roomId\": roomIdToMessage,\n",
    "            # optional parameter - number of the last messages to return\n",
    "            \"max\": 8\n",
    "}\n",
    "\n",
    "# Using the requests library, create a new HTTP GET Request against the Spark API Endpoint for Spark Messages:\n",
    "#  the local object \"r\" will hold the returned data:\n",
    "r = requests.get(   \"https://api.ciscospark.com/v1/messages\",\n",
    "                    params=getMessagesUrlParameters,\n",
    "                    headers={'Authorization':sparkAuthorizationKey}\n",
    "                )\n",
    "\n",
    "if(r.status_code != 200):\n",
    "    print(\"Something wrong has happened:\")\n",
    "    print(\"ERROR CODE: {} \\nRESPONSE: {}\".format(r.status_code, r.text))\n",
    "    assert()"
   ]
  },
  {
   "cell_type": "markdown",
   "metadata": {},
   "source": [
    " 3. Use the following code to see the contents of the returned data. The returned data from the Spark API are usually formatted using the JSON encoding."
   ]
  },
  {
   "cell_type": "code",
   "execution_count": null,
   "metadata": {
    "collapsed": true
   },
   "outputs": [],
   "source": [
    "# See what is in the JSON data:\n",
    "\n",
    "jsonData = r.json()\n",
    "\n",
    "print(\n",
    "    json.dumps(\n",
    "        jsonData,\n",
    "        indent=4\n",
    "    )\n",
    ")"
   ]
  },
  {
   "cell_type": "markdown",
   "metadata": {},
   "source": [
    " 4. The following code will loop through the messages and try to identify a message with a command (e.g. message `/Turn On` or `/Turn Off`). If such message is found, the loop breaks and an informational message is displayed.\n",
    " \n",
    " 5. Try to execute the code cell below. If you, or someone else, in the Spark Room from above has entered the `/Turn On` or `/Turn Off` message, it will be seen here.\n",
    " \n",
    " *NOTE: If you haven't entered the `/Turn On` or `/Turn Off` message in the Spark room before this step, please re-run the code cell from **Step 4** to get all the new messages from your Spark Room.*"
   ]
  },
  {
   "cell_type": "code",
   "execution_count": null,
   "metadata": {
    "collapsed": true
   },
   "outputs": [],
   "source": [
    "messages = jsonData['items']\n",
    "for message in messages:\n",
    "    print(\"Message: \" + message['text'])\n",
    "    if(message['text'] == '/Turn On'):\n",
    "        messageId = message['id']\n",
    "        print(\"Found a command message to TURN ON the LED!\")\n",
    "        break\n",
    "    if(message['text'] == '/Turn Off'):\n",
    "        messageId = message['id']\n",
    "        print(\"Found a command message to TURN OFF the LED!\")\n",
    "        break"
   ]
  },
  {
   "cell_type": "markdown",
   "metadata": {},
   "source": [
    "### Step 5: Continuos loop for new messages\n",
    " 1. To continuously get new messages from the Spark Room, a `while` loop executes the commands from above over and over.\n",
    " 2. In each iteration of the `while` loop, check for new messages. Limit the number of returned messages to 1 (e.g. newest message)\n",
    " 3. To only process new messages, verify if the current message ID is the same as in the previous iteration.\n",
    " 4. Based on the text of the message, control the GPIO pins of the Raspberry Pi.\n",
    " 5. To interupt the loop, click on the STOP icon next to the cell."
   ]
  },
  {
   "cell_type": "code",
   "execution_count": null,
   "metadata": {
    "collapsed": true
   },
   "outputs": [],
   "source": [
    "lastMessageId = None\n",
    "\n",
    "while True:\n",
    "    # the code should not hammer the API service with too many reqeuests in a short time\n",
    "    #  to limit the number of requests in the while loop, begin with a short 1 second delay:\n",
    "    time.sleep(1)\n",
    "    print(\"Next iteration is starting ...\")\n",
    "    \n",
    "    # define the mandatory or optional GET parametrs for the `messages` API endpoint:\n",
    "    getMessagesUrlParameters = {\n",
    "                # mandatory parameter - the room ID\n",
    "                \"roomId\": roomIdToMessage,\n",
    "                # optional parameter - number of the last messages to return\n",
    "                #  only interested in the very last message in the room\n",
    "                #   thefore max = 1\n",
    "                \"max\": 1\n",
    "    }\n",
    "\n",
    "    # Using the requests library, creare a new HTTP GET Request against the Spark API Endpoint for Spark Messages:\n",
    "    #  the local object \"r\" will hold the returned data:\n",
    "    r = requests.get(   \"https://api.ciscospark.com/v1/messages\",\n",
    "                        params=getMessagesUrlParameters,\n",
    "                        headers={'Authorization':sparkAuthorizationKey}\n",
    "                    )\n",
    "    if(r.status_code != 200):\n",
    "        print(\"Something wrong has happened:\")\n",
    "        print(\"ERROR CODE: {} \\nRESPONSE: {}\".format(r.status_code, r.text))\n",
    "        assert()\n",
    "    \n",
    "    \n",
    "    # Store the json data from the reply\n",
    "    jsonData = r.json()\n",
    "    \n",
    "    # Get the items (array of messages) from the jsonData.\n",
    "    messages = jsonData['items']\n",
    "    # since the request specified max=1, only one message should be returned:\n",
    "    message  = messages[0]\n",
    "    \n",
    "    # Verify if this is a new message:\n",
    "    if(lastMessageId == message['id']):\n",
    "        #this is the same message as before, no new messages\n",
    "        print(\"No New Messages.\")\n",
    "    else:\n",
    "        # this is a new message, its ID is different from the one in the previous iteration\n",
    "        print(\"New Message: \" + message['text'])\n",
    "        # save the message id for the next iteration:\n",
    "        lastMessageId = message['id']\n",
    "        if(message['text'] == '/Turn On'):\n",
    "            messageId = message['id']\n",
    "            print(\"Found a command message to TURN ON the LED!\")\n",
    "            # Turn on the LED:\n",
    "            GPIO.output(LEDPin, True)\n",
    "            #break\n",
    "        if(message['text'] == '/Turn Off'):\n",
    "            messageId = message['id']\n",
    "            print(\"Found a command message to TURN OFF the LED!\")\n",
    "            # Turn off the LED:\n",
    "            GPIO.output(LEDPin, False)\n",
    "            #break"
   ]
  },
  {
   "cell_type": "markdown",
   "metadata": {
    "collapsed": true
   },
   "source": [
    "## Reflection:\n",
    "\n",
    "Try to update the code and the electronic circuit to be able not only control the Physical World from Cisco Spark, but also sense. In that case, you could ask on Cisco Spark questions such as \"What is the temperature?\".   \n"
   ]
  },
  {
   "cell_type": "markdown",
   "metadata": {
    "collapsed": true
   },
   "source": [
    "###### &copy; 2017 Cisco and/or its affiliates. All rights reserved. This document is Cisco Public."
   ]
  }
 ],
 "metadata": {
  "anaconda-cloud": {},
  "kernelspec": {
   "display_name": "Python 3",
   "language": "python",
   "name": "python3"
  },
  "language_info": {
   "codemirror_mode": {
    "name": "ipython",
    "version": 3
   },
   "file_extension": ".py",
   "mimetype": "text/x-python",
   "name": "python",
   "nbconvert_exporter": "python",
   "pygments_lexer": "ipython3",
   "version": "3.5.3"
  }
 },
 "nbformat": 4,
 "nbformat_minor": 1
}
