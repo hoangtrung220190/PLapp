{
 "cells": [
  {
   "cell_type": "markdown",
   "metadata": {
    "run_control": {
     "frozen": true,
     "read_only": true
    }
   },
   "source": [
    "![Cisco Networking Academy](images/cisco.png)"
   ]
  },
  {
   "cell_type": "markdown",
   "metadata": {},
   "source": [
    "# Lab: Power Plant Earthquake Emergency Shutdown System (Optional Lab)"
   ]
  },
  {
   "cell_type": "markdown",
   "metadata": {
    "run_control": {
     "frozen": true,
     "read_only": true
    }
   },
   "source": [
    "## Lab Topology\n",
    "![lab-topo](images/topology.png)"
   ]
  },
  {
   "cell_type": "markdown",
   "metadata": {
    "run_control": {
     "frozen": true,
     "read_only": true
    }
   },
   "source": [
    "## Objectives\n",
    " * Set up an mLab user account for a cloud MongoDB database\n",
    " * Connect electronic circuits\n",
    " * Use PL-App with Two Raspberry Pis"
   ]
  },
  {
   "cell_type": "markdown",
   "metadata": {
    "run_control": {
     "frozen": true,
     "read_only": true
    }
   },
   "source": [
    "## \tBackground / Scenario \n",
    "This lab demonstrates the use of HTTP based REST API calls to integrate third party services into your application. You will learn how to store and retrieve JSON data in a MongoDB database running in the cloud, build applications that store the device state in a central place, and build multiple clients that can react based on the stored data.\n",
    "\n",
    "MongoDB is an open source NoSQL document-oriented database that directly maps to applications. It provides a mechanism allowing the integration of data in certain types of applications to become much easier and faster. While it has native support for most programming languages, this lab will for simplicity use an HTTP based REST API access to an mLab hosted MongoDB instance (http://docs.mlab.com/data-api/).\n",
    "\n",
    "The application simulates a simplified factory emergency shutdown system where a single control board can be used by an operator to update the state of an alarm variable in a central database. Multiple emergency client boards periodically check for the alarm property value and trigger an alarm on an external electrical system. For simplicity in this lab you will only be turning on or off LEDs. In real world practice, the control boards could turn off gas pumps, close fire doors, or perform other vital tasks.\n",
    "\n",
    "*Instructor Note: Because this lab uses two RaPi boards, it is recommended that the instructor organize the class in pairs. Student pairs will elect a board to act as control board while the other as emergency board.*\n"
   ]
  },
  {
   "cell_type": "markdown",
   "metadata": {
    "run_control": {
     "frozen": true,
     "read_only": true
    }
   },
   "source": [
    "## Required Resources \n",
    " * Prototyping Lab with two Raspberry Pi boards that are configured and imaged with PL-App\n",
    " * Internet connection with no traffic filtering for port 443 (https)\n",
    " * mLab account"
   ]
  },
  {
   "cell_type": "markdown",
   "metadata": {
    "run_control": {
     "frozen": true,
     "read_only": true
    }
   },
   "source": [
    "# Task 1: Set up an mLab user account for a cloud MongoDB database"
   ]
  },
  {
   "cell_type": "markdown",
   "metadata": {
    "run_control": {
     "frozen": true,
     "read_only": true
    }
   },
   "source": [
    "## Step 1:\tRegister a free user account at mLab\n",
    "If you currently do not have an mLab user account, go to https://mlab.com/signup/ to get one for free."
   ]
  },
  {
   "cell_type": "markdown",
   "metadata": {
    "run_control": {
     "frozen": true,
     "read_only": true
    }
   },
   "source": [
    "## Step 2:\tSetup a new MongoDB database using the mLab cloud\n",
    "**a.**\tSign In and click **Create new** from the navigation menu to create a new **MongoDB** database.\n",
    "![mongo01](images/mongo01.png)\n",
    "\n",
    "**b.**\tSelect any Cloud provider from the list where your MongoDB instance is going to be created. \n",
    "\n",
    "**c.**\tSelect a **Sandbox** offering with a free, up to 0.5GB size, database. Click **Continue**.\n",
    "![mongo02](images/mongo02.png)\n",
    "\n",
    "**d.**\tSelect an AWS Region and click **Continue**.\n",
    "![mongo03](images/mongo03.png)\n",
    "\n",
    "**e.**\tSelect a Database name which must be unique (you can use a combination of your username + some additional letters) and click **Continue**\n",
    "![mongo04](images/mongo04.png)\n",
    "\n",
    "**f.**\tReview the chosen settings and click **Submit Order**.\n",
    "![mongo05](images/mongo05.png)\n",
    "\n",
    "**g.**\tOnce a database has been created, enter it by clicking the database name.\n",
    "![mongo06](images/mongo06.png)\n",
    "\n",
    "**h.**\tInside of the database, create a new collection of JSON based documents.\n",
    "![mongo07](images/mongo07.png)\n",
    "![mongo08](images/mongo08.png)\n",
    "\n",
    "**i.**\tEnter the newly created collection of JSON based documents:\n",
    "![mongo09](images/mongo09.png)\n",
    "\n",
    "**j.**\tInside the collection, create a new JSON based document.\n",
    "![mongo10](images/mongo10.jpg)\n",
    "\n",
    "**k.**\tThe new JSON document will represent the state of the emergency alarm. \n",
    "The **control board** will update this document with the desired state of the alarm, while the **emergency board** will retrieve this document to check the current state of the alarm parameter. The alarm parameter will be a Boolean variable, having true or false state.\n",
    "![mongo11](images/mongo11.png)\n",
    "\n",
    "`{“alarm”:false}`\n",
    "\n",
    "**Note**: *Once the document is created, you should see it on the previous page among your Collection.*\n",
    "![mongo12](images/mongo12.png)\n",
    " "
   ]
  },
  {
   "cell_type": "markdown",
   "metadata": {
    "run_control": {
     "frozen": true,
     "read_only": true
    }
   },
   "source": [
    "## Step 3:\tGetting your mLab’s REST API Secret Key\n",
    "**a.**\tTo enable HTTP RESP API access, access the user account page by clicking your username in the top right menu of the page.\n",
    "![mongo13](images/mongo13.jpg)\n",
    "\n",
    "**b.**\tAt the bottom of your user profile page, click **Enable Data API Access** to enable HTTP based REST API access to your mLab’s databases:\n",
    "![mongo14](images/mongo14.jpg)\n",
    "\n",
    "**Note**: *Remember your **API key** from the user account page. You will need it for your application that is going to be running on the Raspberry Pi boards. You will need the mLab **API key** every time you want to update or retrieve the documents stored in your database by using an HTTP or HTTPS GET/POST URL:*\n",
    "\n",
    "`https://api.mlab.com/api/1/databases/{DB}/collections/{CO}/?apiKey=y2***HVXs`\n",
    "\n",
    "*where `{DB}` is the database name you created, `{CO}` is the collection name you created, all followed at the end of the URL with your API Key.*"
   ]
  },
  {
   "cell_type": "markdown",
   "metadata": {
    "run_control": {
     "frozen": true,
     "read_only": true
    }
   },
   "source": [
    "# Task 2: Connect electronic circuits"
   ]
  },
  {
   "cell_type": "markdown",
   "metadata": {
    "run_control": {
     "frozen": true,
     "read_only": true
    }
   },
   "source": [
    "## Step 1:\tConnect external LEDs using a breadboard to the Raspberry Pi Emergency Board\n",
    "**a.**\tUsing red and green color LEDs, resistors, jumper cables and a breadboard connect the Raspberry Pi that is to be used as the **Emergency Board**.\n",
    "\n",
    "**b.**\tThe logical schematic is outlined in the figure below. The anode leg of the red LED1 is to be connected to GPIO pin number 21 based on the BCM GPIO scheme (or pin number 40 based on the physical pin numbering scheme) of the Raspberry Pi version version 3, while the anode leg of the green LED2 is to be connected to the GPIO pin number 20 based on the BCM GPIO scheme (or pin number 38 based on the physical pin numbering scheme) of the Raspberry Pi version 3) .\n",
    "![rpi01](images/rpi01.jpg)\n",
    "\n",
    "**c.**\tConnect the LEDs, two 330Ω resistors and jumper cables as shown on the physical diagram below to a breadboard and to the first Raspberry Pi. The physical connections are outlined in the figure below.\n",
    "![rpi02](images/rpi02.jpg)"
   ]
  },
  {
   "cell_type": "markdown",
   "metadata": {
    "run_control": {
     "frozen": true,
     "read_only": true
    }
   },
   "source": [
    "## Step 2:\tConnect a button using a breadboard to the Raspberry Pi Control Board\n",
    "**a.**\tUsing a push button, resistor, jumper cables and a breadboard connect the Raspberry Pi that is to be used as the **Control Board**.\n",
    "\n",
    "**Note**: *The logical schematic is outlined in the figure below. The push button is connected to the input GPIO pin of the Raspberry Pi with a pull down resistor. This ensures that when the button is off, the GPIO pin is sensing a logical LOW state. Once the button is pressed and goes on, the current flows from the +3.3V pin directly to the input GPIO pin, thus sensing a logical HIGH state. The pull down leg of the push button S1 is to be connected to GPIO pin number 21 based on the BCM GPIO scheme (or pin number 40 based on the physical pin numbering scheme) of the Raspberry Pi version 3).*\n",
    "![rpi03](images/rpi03.jpg)\n",
    "\n",
    "**b.**\tConnect the push button, a 10kΩ resistor and jumper cables as shown on the physical diagram below to a breadboard and to the second Raspberry Pi. The physical connections are outlined in the figure below.\n",
    "![rpi04](images/rpi04.jpg)"
   ]
  },
  {
   "cell_type": "markdown",
   "metadata": {
    "run_control": {
     "frozen": true,
     "read_only": true
    }
   },
   "source": [
    "# Task 3: Software to connect to dots"
   ]
  },
  {
   "cell_type": "markdown",
   "metadata": {
    "run_control": {
     "frozen": true,
     "read_only": true
    }
   },
   "source": [
    " ## Step 1: Import the needed Python modules\n",
    "\n",
    "The `RPi.GPIO` Raspberry Pi Python's module is used to interact with the physical GPIO pins of the Raspberry Pi. The `RPi.GPIO` module provides functions to set various PIN numbering schemes, input or output mode of the GPIO pins and functions to either read the current state of an input pin, or set the state of an output pin.\n",
    "\n",
    "The Python's `requests` module provides an easy to use HTTP library to send and receive messages to web servers. Since  RESTful API services, such as Cisco Spark APIs, are implemented as small web servers, this is an essential module.\n",
    "\n",
    "Most of the messages that are exchanged between the API client and API server have a special formating. Most common are XML and JSON. Cisco Spark API uses JSON to encode messages. To work with JSON encoded data, in Python import the `json` module."
   ]
  },
  {
   "cell_type": "code",
   "execution_count": null,
   "metadata": {
    "collapsed": true
   },
   "outputs": [],
   "source": [
    "# Import the GPIO modules to control the GPIO pins of the Raspberry Pi\n",
    "import RPi.GPIO as GPIO\n",
    "# Import the requests module to execute RESTful API calls with HTTP requests\n",
    "import requests\n",
    "# Import the json module to work with JSON encoded objects\n",
    "import json\n",
    "# Import the time module to control the timing of your application (e.g. add delay, etc.)\n",
    "import time"
   ]
  },
  {
   "cell_type": "markdown",
   "metadata": {
    "run_control": {
     "frozen": true,
     "read_only": true
    }
   },
   "source": [
    "## Step 2: Access the mLab’s RESTful API Endpoints\n",
    "\n",
    "**a**. Set the following 3 variables:\n",
    " * mongoLabsDatabase\n",
    " * mongoLabsCollection\n",
    " * mongoLabsApiKey\n",
    "\n",
    "with your settings from mlab.com and then execute the cell to set the `mongoLabsApiURI` variable.\n",
    "\n",
    "The `mongoLabsApiURI` variable holds the RESTful API endpoint URL for your mlab database. Any time you want to read or write data to your mlab.com database, the RESTful API HTTP requests must use this URL."
   ]
  },
  {
   "cell_type": "code",
   "execution_count": null,
   "metadata": {
    "collapsed": true
   },
   "outputs": [],
   "source": [
    "# Copy the MongoDB database name from here https://mlab.com:\n",
    "mongoLabsDatabase = \"!!!-REPLACE-WITH-YOUR-MLAB.COM-DB-NAME-!!!!\"\n",
    "# the collection name inside of your database:\n",
    "mongoLabsCollection = \"!!!-REPLACE-WITH-YOUR-MLAB.COM-COLLECTION-NAME-!!!!\"\n",
    "# and the API KEY from your https://mlab.com/user (the API user must have Enabled Data API Access)\n",
    "mongoLabsApiKey = \"!!!-REPLACE-WITH-YOUR-MLAB.COM-DB-API-KEY!!!!\"\n",
    "\n",
    "# The RESP API URL Endpoint for the specified collection in your database:\n",
    "mongoLabsApiURI = \"https://api.mlab.com/api/1/databases/\" + mongoLabsDatabase + \"/collections/\" + mongoLabsCollection + \"/?apiKey=\" + mongoLabsApiKey"
   ]
  },
  {
   "cell_type": "markdown",
   "metadata": {
    "run_control": {
     "frozen": true,
     "read_only": true
    }
   },
   "source": [
    "**b**. Set a new record to your mlab.com database. To add a new record to the database, the RESTful API HTTP call must use the PUT HTTP method and the record data must be json encoded.\n",
    "\n",
    "With the `requests` module, it's easy to create a new PUT HTTP request with the `requests.put()` function."
   ]
  },
  {
   "cell_type": "code",
   "execution_count": null,
   "metadata": {
    "collapsed": true
   },
   "outputs": [],
   "source": [
    "# a value to store in the database - can be either True or False\n",
    "alarmValue = True\n",
    "\n",
    "# requests.put - PUT a new \"alarm\" record in the DB\n",
    "r = requests.put( mongoLabsApiURI,\n",
    "                  json = {\"alarm\": alarmValue}   # JSON encoded data\n",
    ")\n",
    "\n",
    "# verify if the response indicates a successfull requests (http code 200)\n",
    "if (r.status_code != 200):                  # if response from request is not \n",
    "    print(\"Something wrong has happened:\") #200/OK, then alert!\n",
    "    print(\"ERROR CODE: \" + str(r.status_code))\n",
    "    print(\"ERROR RESPONSE: \" + r.text)\n",
    "else:\n",
    "    print(\"All OK, record stored.\")"
   ]
  },
  {
   "cell_type": "markdown",
   "metadata": {
    "run_control": {
     "frozen": true,
     "read_only": true
    }
   },
   "source": [
    "**c**. Retrieve the records from your mlab.com database. To retrieve records from the database, the RESTful API HTTP call must use the GET HTTP method. The returned data records are json encoded in the reply.\n",
    "\n",
    "With the `requests` module, it's easy to create a new GET HTTP request with the `requests.get()` function."
   ]
  },
  {
   "cell_type": "code",
   "execution_count": null,
   "metadata": {
    "collapsed": true
   },
   "outputs": [],
   "source": [
    "# requests.get - GET method to get the records data from the database\n",
    "r = requests.get(mongoLabsApiURI)\n",
    "\n",
    "if (r.status_code != 200):\n",
    "    print(\"Something wrong has happened:\")\n",
    "    print(\"ERROR CODE: \" + str(r.status_code))\n",
    "    print(\"ERROR RESPONSE: \" + r.text)\n",
    "else:\n",
    "    # the reply in the \"r\" object should be json encoed data\n",
    "    jsonData = r.json()\n",
    "    \n",
    "    # to see a raw output of the json reply, uncomment the following line:\n",
    "    #print(json.dumps(jsonData, indent=4))\n",
    "    \n",
    "    # the actuall data should be an array of records\n",
    "    # the first item in the array is the most recent record in the database:\n",
    "    firstRecord = jsonData[0]\n",
    "\n",
    "    # each record should have the \"alarm\" field:\n",
    "    isAlarm = firstRecord[\"alarm\"]\n",
    "    \n",
    "    print(\"State of the last alarm record in the database: \" + str(isAlarm))"
   ]
  },
  {
   "cell_type": "markdown",
   "metadata": {
    "run_control": {
     "frozen": true,
     "read_only": true
    }
   },
   "source": [
    "**d**. Try to modify the `alarmValue` in the previous second cell from `True` to `False` (or oposite) and execute the cells to see the new `alarmValue` is successfully stored as well as retrieved from the dabase using the RESTful API calls of the previous two code cells."
   ]
  },
  {
   "cell_type": "markdown",
   "metadata": {
    "run_control": {
     "frozen": true,
     "read_only": true
    }
   },
   "source": [
    "## Step 3 on the emergency board: Checking for alarms\n",
    "\n",
    "**Note**: *Only run the code cells in this step on the Raspberry Pi board that functions as the **emergency board**.*\n",
    "\n",
    "**a**. Set the GPIO pin numbering scheme to BCM.\n",
    "\n",
    "**b**. Set the pins with the LEDs to the OUTput mode."
   ]
  },
  {
   "cell_type": "code",
   "execution_count": null,
   "metadata": {
    "collapsed": true
   },
   "outputs": [],
   "source": [
    "# Set the desired pin numbering scheme:\n",
    "GPIO.setmode(GPIO.BCM)\n",
    "\n",
    "# GPIO PINs where the LEDs are connected \n",
    "#  pin numbering based on the BCM scheme\n",
    "# the PIN of the green LED - OK\n",
    "GreenLEDPin = 20\n",
    "# the PIN of the red LED - ALARM\n",
    "RedLEDPin   = 21\n",
    "\n",
    "# Setup the direction of the GPIO pins - either INput or OUTput \n",
    "#  In case of the PINs that connect LEDs, they must be set to OUTput mode:\n",
    "GPIO.setup(GreenLEDPin, GPIO.OUT)\n",
    "GPIO.setup(RedLEDPin, GPIO.OUT)"
   ]
  },
  {
   "cell_type": "markdown",
   "metadata": {
    "run_control": {
     "frozen": true,
     "read_only": true
    }
   },
   "source": [
    "**c**. Execute the cell below to verify the LEDs are blinking and the GPIO access is working."
   ]
  },
  {
   "cell_type": "code",
   "execution_count": null,
   "metadata": {
    "collapsed": true
   },
   "outputs": [],
   "source": [
    "for i in range(2):\n",
    "    print(\"ON\")\n",
    "    GPIO.output(GreenLEDPin, True) # True = set 3.3V on the pin\n",
    "    GPIO.output(RedLEDPin,   True) # True = set 3.3V on the pin\n",
    "    time.sleep(1)\n",
    "    print(\"OFF\")\n",
    "    GPIO.output(GreenLEDPin, False) # False = set 0V on the pin\n",
    "    GPIO.output(RedLEDPin,   False) # False = set 0V on the pin\n",
    "    time.sleep(1)"
   ]
  },
  {
   "cell_type": "markdown",
   "metadata": {
    "run_control": {
     "frozen": true,
     "read_only": true
    }
   },
   "source": [
    "**d**. Execute the cell below to start the Emergency Shutdown system on the emergency board.\n",
    " 1. The code will be running in a while loop until manually stopped or an error occurs. \n",
    " 2. In each itteration of the loop, a new API request is made to retrieve the record from the mlab.com database. \n",
    " 3. Based on the returned records, specifically the \"alarm\" state of the most recent record, the LEDs connected to the GPIO pins of the Raspberry Pi will turn on or off based the the alarm state.\n",
    " 4. Simultaneously with this, on the 2nd Raspberry Pi that is used as the control board, change the alarm state by pressing the button."
   ]
  },
  {
   "cell_type": "code",
   "execution_count": null,
   "metadata": {
    "collapsed": true
   },
   "outputs": [],
   "source": [
    "print(\"Started the factory Emergency Shutdown system ...\")\n",
    "\n",
    "# loop forever\n",
    "while True:\n",
    "    # get the records from the mlab.com database:\n",
    "    r = requests.get(mongoLabsApiURI)\n",
    "    if (r.status_code != 200):\n",
    "        print(\"Something wrong has happened:\")\n",
    "        print(\"ERROR CODE: \" + str(r.status_code))\n",
    "        print(\"ERROR RESPONSE: \" + r.text)\n",
    "        assert()  # stop the application at this point\n",
    "    # get the most recent alarm status from the recods\n",
    "    isAlarm = r.json()[0][\"alarm\"]\n",
    "    if(isAlarm):    # if the alarm is on (True)\n",
    "        print(\"RUN RUN RUN\")\n",
    "        GPIO.output(GreenLEDPin, False)\n",
    "        GPIO.output(RedLEDPin,   True)\n",
    "    else:\n",
    "        print(\"OK\")\n",
    "        GPIO.output(GreenLEDPin, True)\n",
    "        GPIO.output(RedLEDPin,   False)\n",
    "    # wait one second before the next itteration\n",
    "    # this is important to not to overload the online service with lot of API requests\n",
    "    time.sleep(1)"
   ]
  },
  {
   "cell_type": "markdown",
   "metadata": {
    "run_control": {
     "frozen": true,
     "read_only": true
    }
   },
   "source": [
    "## Step 3 on the control board: Controlling alarm states\n",
    "\n",
    "**Note**: *Only run the code cells in this step on the Raspberry Pi board that functions as the **control board**.*\n",
    "\n",
    "**a**. Set the GPIO pin numbering scheme to BCM.\n",
    "\n",
    "**b**. Set the pin with the button to the INput mode."
   ]
  },
  {
   "cell_type": "code",
   "execution_count": null,
   "metadata": {
    "collapsed": true
   },
   "outputs": [],
   "source": [
    "# Set the desired pin numbering scheme:\n",
    "GPIO.setmode(GPIO.BCM)\n",
    "\n",
    "# GPIO PIN where the button is connected \n",
    "#  pin numbering based on the BCM scheme\n",
    "# the PIN of the button - the RED PANIC EMERGENCY button ;-)\n",
    "buttonPin = 21\n",
    "\n",
    "# Setup the direction of the GPIO pins - either INput or OUTput \n",
    "#  In case of the PIN that connects the button, it must be set to INput mode:\n",
    "GPIO.setup(buttonPin, GPIO.IN)"
   ]
  },
  {
   "cell_type": "markdown",
   "metadata": {
    "run_control": {
     "frozen": true,
     "read_only": true
    }
   },
   "source": [
    "**c**. Execute the cell bellow to verify the LEDs are blinking and the GPIO access is working. Press and release the button to see the changes."
   ]
  },
  {
   "cell_type": "code",
   "execution_count": null,
   "metadata": {
    "collapsed": true
   },
   "outputs": [],
   "source": [
    "# first read the button state \n",
    "#  and store it in the variables\n",
    "buttonState = previousItterationButtonState = GPIO.input(buttonPin)\n",
    "\n",
    "print(\"Button state is: \" + str(buttonState))\n",
    "print(\"Try to press the button...\")\n",
    "\n",
    "# loop forever - stop this cell by clicking on the STOP button on the left part of the cell\n",
    "while True:\n",
    "    # read the state of the pin where the button is connected\n",
    "    #  returns True is the button is pressed and the possitive voltage is detected on the pin\n",
    "    buttonState = GPIO.input(buttonPin)\n",
    "    # compare the new state with the previous state \n",
    "    if(buttonState != previousItterationButtonState):\n",
    "        print(\"Button change. New state is: \" + str(buttonState))\n",
    "    # save the state of this itteration\n",
    "    previousItterationButtonState = buttonState"
   ]
  },
  {
   "cell_type": "markdown",
   "metadata": {
    "run_control": {
     "frozen": true,
     "read_only": true
    }
   },
   "source": [
    "**d**. Execute the cell bellow to start the Emergency Shutdown system on the control board. (Make sure the above code in Step 3c is not actively running before executing the code below.)\n",
    " 1. The code will be running in a while loop until manually stoped or an error occurs. \n",
    " 2. In each itteration of the loop, the state of the button is checked. \n",
    " 3. If change is detected, the new button state representing the alarm state is put using the API request as a new recod to the mlab.com database.\n",
    " 4. Simultaneously with this, the other Raspberry Pi board that was setup as the emergecy board can check for the new alarm records on the mlab.com database and accordingly set the LEDs."
   ]
  },
  {
   "cell_type": "code",
   "execution_count": null,
   "metadata": {
    "collapsed": true
   },
   "outputs": [],
   "source": [
    "print(\"Started the factory Control system ...\")\n",
    "# first read the button state \n",
    "#  and store it in the variables\n",
    "buttonState = previousItterationButtonState = GPIO.input(buttonPin)\n",
    "\n",
    "# loop forever - stop this cell by clicking on the STOP button on the left part of the cell\n",
    "while True:\n",
    "    # read the state of the pin where the button is connected\n",
    "    #  returns True if the button is pressed and positive voltage is detected on the pin\n",
    "    buttonState = GPIO.input(buttonPin)\n",
    "    # compare the new state with the previous state \n",
    "    if(buttonState != previousItterationButtonState):\n",
    "        # convert the buttonState returned by the GPIO.input() from a number to a boolean \n",
    "        #  (1=True, 0=False)\n",
    "        alarmValue = True if buttonState == 1 else False\n",
    "        print(\"Button change. New state is: \" + str(buttonState) + \" and alarm is: \" + str(alarmValue))\n",
    "        print(\"Updating alarm value in DB using the RESP API call over HTTP.\")\n",
    "        r = requests.put(mongoLabsApiURI,        # PUT new \"alarm\" in the DB\n",
    "                         json = {\"alarm\": alarmValue}   # update JSON data\n",
    "                         )\n",
    "        if (r.status_code != 200):\t        # if response from request is not \n",
    "            print(\"Something wrong has happened:\") #200/OK, then alert!\n",
    "            print(\"ERROR CODE: \" + str(r.status_code))\n",
    "            print(\"ERROR RESPONSE: \" + r.text)\n",
    "            assert()  # stop the application at this point\n",
    "    # save the state of this itteration\n",
    "    previousItterationButtonState = buttonState"
   ]
  },
  {
   "cell_type": "markdown",
   "metadata": {},
   "source": [
    "## Reflection\n",
    "\n",
    "What are the geographical limitations regarding the placement of the control board and the emergency board?"
   ]
  },
  {
   "cell_type": "markdown",
   "metadata": {
    "collapsed": true,
    "run_control": {
     "frozen": true,
     "read_only": true
    }
   },
   "source": [
    "###### &copy; 2017 Cisco and/or its affiliates. All rights reserved. This document is Cisco Public."
   ]
  }
 ],
 "metadata": {
  "anaconda-cloud": {},
  "kernelspec": {
   "display_name": "Python 3",
   "language": "python",
   "name": "python3"
  },
  "language_info": {
   "codemirror_mode": {
    "name": "ipython",
    "version": 3
   },
   "file_extension": ".py",
   "mimetype": "text/x-python",
   "name": "python",
   "nbconvert_exporter": "python",
   "pygments_lexer": "ipython3",
   "version": "3.5.3"
  }
 },
 "nbformat": 4,
 "nbformat_minor": 1
}
