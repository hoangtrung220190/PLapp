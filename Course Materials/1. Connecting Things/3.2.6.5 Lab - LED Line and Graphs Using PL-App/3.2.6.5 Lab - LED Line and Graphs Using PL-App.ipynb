{
 "cells": [
  {
   "cell_type": "markdown",
   "metadata": {},
   "source": [
    "![Cisco Networking Academy](images/cisco.png)"
   ]
  },
  {
   "cell_type": "markdown",
   "metadata": {},
   "source": [
    "# Lab: LED Line and Graphs Using PL-App\n",
    "\n",
    "### Topology\n",
    "![Topology](images/topology.png)\n",
    "\n",
    "### Objectives\n",
    " * Part 1: Building the Electronic Circuits\n",
    "    * Connect five LEDs to the Raspberry Pi to form a line\n",
    "    * Add a potentiometer to a RedBoard\n",
    "    * Connect the RedBoard to the Raspberry Pi\n",
    " * Part 2: Use the PL-App with the Raspberry Pi and RedBoard\n",
    "    * Connect the Raspberry Pi to PL-App\n",
    "    * Create a new Visual Programming application\n",
    "    * Create an application to read out analog values using RedBoard\n",
    " * Part 3: Visualize the Data in a Line Chart\n",
    "    * Create a Line Chart\n",
    "    * Modify the code to send a signal to PL-App\n",
    "\n",
    "### Background / Scenario\n",
    "In this lab, you will connect a RedBoard to a Raspberry Pi and learn how to control it from the Raspberry Pi via the PL-App interface. You will also learn how to represent the currently measured values from analog sensors on a line of LEDs and how to draw charts in the PL-App interface.\n",
    "\n",
    "### Required Resources\n",
    " * PC with Internet Access\n",
    " * Ethernet based connection to the Internet with DHCP and no traffic filtering\n",
    " * Raspberry Pi that is configured and imaged for PL-App access\n",
    " * RedBoard or compatible\n",
    " * Breadboard, resistors, LEDs, wires"
   ]
  },
  {
   "cell_type": "markdown",
   "metadata": {},
   "source": [
    "## Part 1:\tBuilding the Electronic Circuits\n",
    "\n",
    "### Step 1:\tConnect five LEDs to the Raspberry Pi to form a line\n",
    " 1. Insert the five LEDs to the breadboard. The cathode should be left of the anode leg for each LED.\n",
    " 2. Insert the five 330Ohm resistors to the breadboard. Each resistor should be aligned with the cathode leg of LED. Use the ground row to connect all resistors to the common ground.\n",
    " 3. Connect the ground jumper wire to physical pin 9 on the Raspberry Pi.  Typically, the color black is used to indicate ground.\n",
    " 4. Use a jumper wire to connect the anode leg of the first LED to the GPIO BCM pin number 18, located at physical pin 12.\n",
    " 5. Use a second jumper wire to connect the second LED to GPIO BCM pin number 27, located at physical pin 13.\n",
    " 6. Use a third jumper wire to connect the third LED to GPIO BCM pin number 22, located at physical pin 15.\n",
    " 7. Use a fourth jumper wire to connect the fourth LED to GPIO BCM pin number 23, located at physical pin 16.\n",
    " 8. Use a fifth jumper wire to connect the fifth LED to GPIO BCM pin number 24, located at physical pin 18.\n",
    "Note: It is good practice to identify circuits by color. Try using the colors of the rainbow (ROYGBIV) to match wires with LEDs.\n",
    "![rpi_breadboard_leds](images/rpi_breadboard_leds.png)\n",
    "![Raspberry Pi Pinout](images/Raspberry_Pi_3_Model_B_pinout.png)"
   ]
  },
  {
   "cell_type": "markdown",
   "metadata": {},
   "source": [
    "### Step 2:\tAdd a potentiometer to a RedBoard\n",
    " 1. To simulate an analog sensor, add a 10kOhm potentiometer to the other side of the breadboard.\n",
    " 2. Connect a black jumper wire to a hole aligned with the right leg of the potentiometer. Connect the other end of the jumper wire to the GND on the RedBoard.\n",
    " 3. Connect a red jumper wire to a hole aligned with the left leg of the potentiometer. Connect the other end of the red jumper wire to the +5V output on the RedBoard.\n",
    " 4. Connect a green jumper wire to a hole aligned with the middle leg of the potentiometer. Connect the other end of the green jumper wire to the A0 output on the RedBoard.\n",
    " 6. Using a screwdriver, gently turn the knob of the potentiometer to the left, then to the right. Find the middle position and leave the knob there for now.\n",
    "![arduino_breadboard_potentiometer](images/arduino_breadboard_potentiometer.png)"
   ]
  },
  {
   "cell_type": "markdown",
   "metadata": {},
   "source": [
    "### Step 3:\tConnect the RedBoard to the Raspberry Pi\n",
    "Using a USB cable, connect the RedBoard to the Raspberry Pi.\n",
    "\n",
    "Note: Since the RedBoard is powered directly from this USB connection, there is no need to provide any additional power to the RedBoard. "
   ]
  },
  {
   "cell_type": "markdown",
   "metadata": {},
   "source": [
    "## Part 2:\tUse the PL-App with Raspberry Pi and RedBoard"
   ]
  },
  {
   "cell_type": "markdown",
   "metadata": {},
   "source": [
    "### Step 1:\tIdentify the RedBoard's serial communication device on Linux\n",
    " 1. The RedBoard (or Arduino UNO board) is connected to the Raspberry Pi using a USB cable. The USB cable not only provides power to the RedBoard, but also provides a serial communication device that can be used to programm the RedBoard and exchnage data. On Windows the serial communication device is identified as \"COM1, COM2, ...\" port, on Linux it's usually /dev/ttyUSB0, /dev/ttyUSB1, ... or /dev/ttyACM0, /dev/ttyACM1, ...\n",
    " 2. Identify the name of the RedBoard serial communication device on the Linux PL-App OS, by executing the cell bellow. The cell bellow contains a bash script that idenfifies the device name. Remember the name of the serial communication device - it will be needed for later work.\n",
    "\n",
    "Example output: ![identify_serial_device](images/identify_serial_device.png)"
   ]
  },
  {
   "cell_type": "code",
   "execution_count": 1,
   "metadata": {},
   "outputs": [
    {
     "name": "stdout",
     "output_type": "stream",
     "text": [
      "ttyUSB0\n"
     ]
    }
   ],
   "source": [
    "%%bash\n",
    "# ^^^ The commands below are to be executed as a Linux Bash commands. \n",
    "# You can get the same output by opening a terminal connection to the device and executing these commands manually.\n",
    "\n",
    "dmesg | grep -v disconnect | grep -Eo \"tty(ACM|USB).\" | tail -1"
   ]
  },
  {
   "cell_type": "markdown",
   "metadata": {},
   "source": [
    "### Step 2:\tFlashing RedBoard with Firmata firmware \n",
    "Firmata is a serial communication protocol that enables to control the RedBoard (Arduino boards) over a serial interface, without the need to reflash the RedBoard every time with a new problem specific firmware. \n",
    "\n",
    "The controlling device, in this case the PL-App Raspberry Pi uses the RedBoard's serial communication device to send a receive Firmata messages. These messages can be for example control commands which in a human language could be represented as: \"*Hi RedBoard, what is the current value of the Analog Input Pin 0?*\", or \"*Hi RedBoard, turn on the GPIO pin 13*\", etc.\n",
    "\n",
    "Flashing the Firmata firmware on a RedBoard is usually a one time operation. If the firmware on the RedBoard is not reflashed with a different code, it can always exchange data and control messages with any device that talks firmata.\n",
    "\n",
    " 1. If it already contains firmwata, you can skip this step.\n",
    " 2. If your RedBoard does not already contain the Firmata firmwata, execute the cell below. \n",
    " 3. Make sure to set the corrent name of the RedBoard's serial communication device (*i.e. /dev/ttyUSB0, /dev/ttyACM0, ...*) in the **flash Firmata to Arduino on port** block below (or the resulting python code).\n",
    " \n",
    "Example output: ![firmata_flash](images/firmata_flash.png)"
   ]
  },
  {
   "cell_type": "code",
   "execution_count": 2,
   "metadata": {
    "blockly": {
     "display": true,
     "save": "<xml xmlns=\"http://www.w3.org/1999/xhtml\"><block type=\"text_print\" y=\"29\" x=\"39\"><value name=\"TEXT\"><block type=\"text\"><field name=\"TEXT\">Flashing Firmata to a RedBoard/Arduino connected as a USB serial device</field></block></value><next><block type=\"arduino_flash_firmata\"><value name=\"port\"><block type=\"text\"><field name=\"TEXT\">/dev/ttyUSB0</field></block></value></block></next></block></xml>"
    }
   },
   "outputs": [
    {
     "name": "stdout",
     "output_type": "stream",
     "text": [
      "Flashing Firmata to a RedBoard/Arduino connected as a USB serial device\n",
      "Flashing Standard Firmata to a USB-connected Arduino. Please wait...\n",
      "Done flashing.\n"
     ]
    },
    {
     "data": {
      "text/plain": [
       "0"
      ]
     },
     "execution_count": 2,
     "metadata": {},
     "output_type": "execute_result"
    }
   ],
   "source": [
    "import chestnut.arduino\n",
    "\n",
    "\n",
    "print('Flashing Firmata to a RedBoard/Arduino connected as a USB serial device')\n",
    "chestnut.arduino.flash_firmata(\"uno\", '/dev/ttyUSB0')\n"
   ]
  },
  {
   "cell_type": "markdown",
   "metadata": {},
   "source": [
    "### Step 3:\tCreate an application to read out analog values using RedBoard\n",
    " 1. Create the following Blockly program in the Visual Programming cell below.\n",
    "    1. The visual code displayed here starts with setting the BCM pin numbering scheme.\n",
    "    2. Setup the GPIO pins as OUTput for the pins with LEDs connected.\n",
    "    3. Setup Firmata communication with the RedBoard.\n",
    "    4. Execute a never ending loop to be repeated every 1 second.\n",
    "    5. Inside of the loop, read the value from the RedBoard's analog A0 pin.\n",
    "    6. Based on the value, turn on or off the LEDs connected to the GPIO pins of the Raspberry Pi. \n",
    "![blockly_code](images/blockly_code.png)\n",
    " 2. Run the Visual Programming cell with the Blockly code that you created. To stop the loop, pres the Stop icon next to the cell.\n",
    " 4. Turn the knob on the potentiometer. You should see the output values changing, as well as the LEDs turning on or off based on the current position of the knob.\n",
    " 5. Stop the program and return follow with the next part."
   ]
  },
  {
   "cell_type": "code",
   "execution_count": 5,
   "metadata": {
    "blockly": {
     "display": true,
     "save": "<xml xmlns=\"http://www.w3.org/1999/xhtml\"><block type=\"text_print\" y=\"47\" x=\"33\"><value name=\"TEXT\"><block type=\"text\"><field name=\"TEXT\">Hello, please update me with real code...</field></block></value></block></xml>"
    }
   },
   "outputs": [
    {
     "name": "stdout",
     "output_type": "stream",
     "text": [
      "Hello, please update me with real code...\n"
     ]
    }
   ],
   "source": [
    "print('Hello, please update me with real code...')\n"
   ]
  },
  {
   "cell_type": "markdown",
   "metadata": {},
   "source": [
    "## Part 3:\tVisualize the Data in a Line Chart\n",
    "Continue by updating the Visual Programming code cell that you created in the previous part.\n",
    "\n",
    "### Step 1:\tCreate a Line Chart\n",
    " 1. Click on the **Graphing** menu and add a **Graph with chart type** block to create a new Visual Graph. This block creates the Graph, it must be placed outside and before the *while* loop so that it is not getting redefined on every iteration of the loop. \n",
    " 2. By default the list of charts contains two data labels - *Label 1* and *Label 2*. We would like to visualize the current position of the potentiometer knob and therefore one data label is enough. Remove the second label and rename the remaining one to \"Knob Position\".\n",
    "![graph_labels](images/graph_labels.png)\n",
    " 3. Click on the **Graphing** menu and add a **Graph update values** block into the while loop after reading the analog value representing the position of the potentiometer's knob. The source data that should be visualized is the value of **analog_value** variable.\n",
    "![graph_datasets](images/graph_datasets.png)\n",
    " 4. Run the cell. This time you should not only see a textual output, but also a realtime graph visualization.\n",
    "Example output: ![graphing_output](images/graphing.png)"
   ]
  },
  {
   "cell_type": "markdown",
   "metadata": {},
   "source": [
    "## Reflection\n",
    "If you wanted to connect another LED to the Raspberry PI indicating values less than 100, what pin might you use?\n",
    "\n",
    "\n",
    "Examine the resulting Python code displayed on the right part of the Visual Programming code cell. Take the Python code (copy/paste) and put it into a new cell below. Try to edit edit and customize the Python code and run the cell. See how your customizations change the behaviour"
   ]
  },
  {
   "cell_type": "code",
   "execution_count": null,
   "metadata": {
    "collapsed": true
   },
   "outputs": [],
   "source": [
    "# Put the Python code here....\n"
   ]
  },
  {
   "cell_type": "markdown",
   "metadata": {
    "collapsed": true
   },
   "source": [
    "###### &copy; 2017 Cisco and/or its affiliates. All rights reserved. This document is Cisco Public."
   ]
  }
 ],
 "metadata": {
  "anaconda-cloud": {},
  "kernelspec": {
   "display_name": "Python 3",
   "language": "python",
   "name": "python3"
  },
  "language_info": {
   "codemirror_mode": {
    "name": "ipython",
    "version": 3
   },
   "file_extension": ".py",
   "mimetype": "text/x-python",
   "name": "python",
   "nbconvert_exporter": "python",
   "pygments_lexer": "ipython3",
   "version": "3.5.3"
  }
 },
 "nbformat": 4,
 "nbformat_minor": 1
}
