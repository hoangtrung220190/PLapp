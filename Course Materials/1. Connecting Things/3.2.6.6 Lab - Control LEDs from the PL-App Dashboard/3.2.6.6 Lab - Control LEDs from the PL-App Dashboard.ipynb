{
 "cells": [
  {
   "cell_type": "markdown",
   "metadata": {},
   "source": [
    "![Cisco Networking Academy](images/cisco.png)"
   ]
  },
  {
   "cell_type": "markdown",
   "metadata": {},
   "source": [
    "# Lab: Control LEDs from the PL-App Dashboard\n",
    "\n",
    "### Topology\n",
    "![Topology](images/topology.png)\n",
    " \n",
    "### Objectives\n",
    " * Build the Prototype Circuit\n",
    " * Using PL-App with Raspberry Pi and Arduino\n",
    "\n",
    "### Background / Scenario\n",
    "PL-App provides an web based interactive notebook interface, which can contain not only relatime graphs to visualize measured data in form of a chart, but also interactive widgets that can provide control using interactive checkboxes and sliders. The interactive widgets can be used to turn on or off, or change the behavior of components connected to the Raspberry Pi or Arduino.\n",
    "\n",
    "In this lab, the interactive PL-App notebook with interactive widgets will be used to control the LEDs connected to the GPIO pins of an Arduino. The PWM (Pulse Wave Modulation) signal will be used to dim the LEDs.\n",
    "\n",
    "### Required Resources \n",
    " * PC with Internet Access\n",
    " * Ethernet based connection to the Internet with DHCP and no traffic filtering\n",
    " * Raspberry Pi that is configured and imaged for PL-App access\n",
    " * RedBoard or compatible\n",
    " * Breadboard, resistors, LEDs, wires"
   ]
  },
  {
   "cell_type": "markdown",
   "metadata": {},
   "source": [
    "## Part 1:\tBuild the Prototype Circuit\n",
    "\n",
    "![rasp_arduino_breadboard_leds](images/rasp_arduino_breadboard_leds.png)\n",
    "\n",
    "### Step 1:\tAdd two LEDs to an Arduino board\n",
    "Using the [PL-App notebook interactive widgets, a checkbox and a slider widget will control](/notebooks/Course%20Materials/Tutorials%20and%20Demos/Python/ipywidgets%20Interact.ipynb) two LEDs connected to an Arduino board. The [interactive widget checkbox widget](/notebooks/Course%20Materials/Tutorials%20and%20Demos/Python/ipywidgets%20Interact.ipynb) will simply turn on or off the first LED, while the [slider widget](/notebooks/Course%20Materials/Tutorials%20and%20Demos/Python/ipywidgets%20Interact.ipynb) will dim the light of the second LED.\n",
    " 1. Select 2 – 330 Ohm (Ω) resistor, 2 LEDs, 2 red jumper wire, 1 black jumper wire from the Raspberry Pi starter kit.\n",
    " 2. Insert the first LED onto the breadboard. The cathode leg is connected to e10 and the anode leg is to be connected to e11.\n",
    " 3. Insert the second LED onto the breadboard. The cathode leg is connected to e12 and the anode leg is to be connected to e13.\n",
    " 4. Insert the first resistor onto the breadboard into the a10 and the negative (-) connector closes to the a row.\n",
    " 5. Insert the second resistor onto the breadboard into the a12 and the negative (-) connector closes to the a row.\n",
    " 6. Connect one end of the Black jumper wire to the negative (-) connector closes to the a row. Connect the other end of the Black jumper wire to one of the GND pins on the RedBoard.\n",
    " 7. Connect one end of the first Red jumper wire to a11 on the breadboard and the other end to pin 11 on the RedBoard.\n",
    " 8. Connect one end of the second Red jumper wire to a13 on the breadboard and the other end to pin 9 on the RedBoard.\n",
    "\n",
    "Note: The ~ sign next to the pin number on the Arduino board identifies a PWM capable pin. Since at least the second LED should be dimmed, it must be connected to a PWM capable pin.\n",
    "\n",
    "\n",
    "### Step 2:\tConnect the Arduino with the Raspberry Pi\n",
    "Using a USB cable that came with the SIK, connect the Arduino to the Raspberry Pi. The USB cable between the Arduino and the Raspberry Pi is not only used to power the Arduino, but it also provides a serial communication channel to control and monitor the Arduino from applications running on the Raspberry Pi."
   ]
  },
  {
   "cell_type": "markdown",
   "metadata": {},
   "source": [
    "## Part 2:\tUsing PL-App noteboook with iPython Interactive Widgets\n",
    "\n",
    "### Step 1:\tSimple use of iPython Interactive Widgets\n",
    "The PL-App notebook can be extended using the so called iPython Interfactive Widgets. These objects provide visual objects (sliderx, checkboxex, etc.) that enable control of the application that is prototyped inside of the notebook.\n",
    "\n",
    "All the different ipywidgets are available in the `ipywidgets` python module. To use them, simply import the module to the Python code (`import ipywidgets`). \n",
    "\n",
    "A good practice is to import only the required functionality of different modules, therefore the example code below only imports the `interact` function from `ipywidgets` by using \n",
    "```python\n",
    "from ipywidgets import interact\n",
    "```\n",
    "\n",
    "The `interact` function is expecting two parametets:\n",
    " 1. The first is the function name to call when the interactive object is used by the user (e.g. clicked on checkbox, moved the slider, etc.)\n",
    " 2. Type of interactive object to create. This can be a boolean to create checkbox interface, range to create a slider interface, etc.\n",
    "\n",
    "To learn more about the ipywidges, check either [this sample Chestnut notebook with additional examples](/notebooks/Course%20Materials/Tutorials%20and%20Demos/Python/ipywidgets%20Interact.ipynb) or the [official documentation](https://ipywidgets.readthedocs.io/en/latest/).\n",
    "\n",
    "Execute the cell below to play with the `interact` function of `ipywidgets`. Try to modify the variables, etc."
   ]
  },
  {
   "cell_type": "code",
   "execution_count": null,
   "metadata": {
    "collapsed": true
   },
   "outputs": [],
   "source": [
    "from ipywidgets import interact\n",
    "\n",
    "def interactFunctionExample1(parameter):\n",
    "    print(parameter)\n",
    "def interactFunctionExample2(parameter):\n",
    "    print(parameter)\n",
    "\n",
    "interact(interactFunctionExample1, parameter=True)\n",
    "interact(interactFunctionExample2, parameter=(0,255))"
   ]
  },
  {
   "cell_type": "markdown",
   "metadata": {},
   "source": [
    "## Part 3: Controlling LEDs using iPython Interactive Widgets\n",
    "\n",
    "### Step 1:\tPython with RedBoard (Arduino) using Firmata\n",
    "Firmata is a serial communication protocol that enables control of the RedBoard (Arduino boards) over a serial interface, without the need to reflash the RedBoard every time with a new problem specific firmware. \n",
    "\n",
    "If you have not already done so, flash the RedBoard with the Firmata firmware:\n",
    "\n",
    "    import chestnut.arduino\n",
    "    print 'Flashing Firmata to a RedBoard/Arduino connected as a USB serial device'\n",
    "    chestnut.arduino.flash_firmata(\"uno\", '/dev/ttyUSB0)'\n",
    "\n",
    "    *where the \"/dev/ttyUSB0\" is the device name of the Arduino/RedBoard*\n",
    "\n",
    "The controlling device, in this case the PL-App Raspberry Pi uses the RedBoard's serial communication device to send a receive Firmata messages. These messages can be for example control commands which in a human language could be represented as: \"*Hi RedBoard, what is the current value of the Analog Input Pin 0?*\", or \"*Hi RedBoard, turn on the GPIO pin 13*\", etc.\n",
    "\n",
    "To use the Firmata libraries in Python, import the \"pyfirmata\" module:\n",
    "```python\n",
    "from pyfirmata import Arduino, util\n",
    "```\n",
    "\n",
    "and then connect to a RedBoard (Arduino) using the \n",
    "```python\n",
    "board = Arduino(/dev/ttyUSB0)\n",
    "```\n",
    "command, where the `/dev/ttyUSB0` is the name the RedBoard's USB Serial Communication Device on Linux. If the connection is successfull, the connected RedBoard can be controlled directly from Python using statements such as:\n",
    "```python\n",
    "# turn ON the GPIO PIN number 13\n",
    "board.digital[13].write(True)\n",
    "\n",
    "# turn OFF the GPIO PIN number 13\n",
    "board.digital[13].write(False)\n",
    "```\n"
   ]
  },
  {
   "cell_type": "code",
   "execution_count": null,
   "metadata": {
    "collapsed": true
   },
   "outputs": [],
   "source": [
    "# Importing the required modules\n",
    "from pyfirmata import Arduino, util\n",
    "\n",
    "# Creating a connection to an Arduino/RedBoard from Python using Firmata\n",
    "board = Arduino('/dev/ttyUSB0')\n",
    "\n",
    "# Defining code variables that represent the actual GPIO PINs on the Arduino/RedBoard\n",
    "ledOnOff = board.get_pin('d:9:o')\n",
    "#                             ^ output\n",
    "#                           ^ pin number\n",
    "#                       ^ digital pins\n",
    "\n",
    "ledDim   = board.get_pin('d:11:p')\n",
    "#                             ^ pwm output\n",
    "#                           ^ pin number\n",
    "#                       ^ digital pins"
   ]
  },
  {
   "cell_type": "markdown",
   "metadata": {},
   "source": [
    "### Step 2: Interacting with the RedBoard from a notebook\n",
    "\n",
    "Using the `interact` function of `ipywidgets`, the notebook provides interactive objects that can trigger function calls that modify the setting of a RedBoard:"
   ]
  },
  {
   "cell_type": "code",
   "execution_count": null,
   "metadata": {
    "collapsed": true
   },
   "outputs": [],
   "source": [
    "# The functions to handle the interact requests\n",
    "def interactFunctionTurnOnOffLed(ledOnOff_status):\n",
    "    # get the global variable inside of this function\n",
    "    global ledOnOff\n",
    "    # use the value of the ledOnOff_status variable to set the state of the PIN represented as ledOnOff \n",
    "    ledOnOff.write(ledOnOff_status)\n",
    "    # print the current value for debug\n",
    "    print(ledOnOff_status)\n",
    "def interactFunctionDimLed(ledDim_value):\n",
    "    # get the global variable inside of this function\n",
    "    global ledDim\n",
    "    # use the value of the ledDim_value variable to set the state of the PWM duty cycle on the PIN represented as ledDim\n",
    "    #  the PWM value must be between 0.0 - 1.0 (therefore the ledDim_value is divided by 256.0)\n",
    "    ledDim.write(ledDim_value/256.0)\n",
    "    # print the current value for debug\n",
    "    print(ledDim_value)\n",
    "\n",
    "# Defining the interactive objects and their handling functions\n",
    "#  checkbox with true or false state\n",
    "interact(interactFunctionTurnOnOffLed, ledOnOff_status=True)\n",
    "#  slider with values between 0 and 255\n",
    "interact(interactFunctionDimLed, ledDim_value=(0,255))"
   ]
  },
  {
   "cell_type": "markdown",
   "metadata": {},
   "source": [
    "### Step 3: Challenge\n",
    "Modify the code above so that you can turn on or off, as well as dim a single LED connected to a RedBoard/Arduino.  \n"
   ]
  },
  {
   "cell_type": "markdown",
   "metadata": {},
   "source": [
    "## Reflection\n",
    "Why is the code shown in three separate modules? What would happen if the code for the two widgets were joined to the top module?"
   ]
  },
  {
   "cell_type": "markdown",
   "metadata": {
    "collapsed": true
   },
   "source": [
    "###### &copy; 2017 Cisco and/or its affiliates. All rights reserved. This document is Cisco Public."
   ]
  }
 ],
 "metadata": {
  "anaconda-cloud": {},
  "kernelspec": {
   "display_name": "Python 3",
   "language": "python",
   "name": "python3"
  },
  "language_info": {
   "codemirror_mode": {
    "name": "ipython",
    "version": 3
   },
   "file_extension": ".py",
   "mimetype": "text/x-python",
   "name": "python",
   "nbconvert_exporter": "python",
   "pygments_lexer": "ipython3",
   "version": "3.5.3"
  }
 },
 "nbformat": 4,
 "nbformat_minor": 1
}
