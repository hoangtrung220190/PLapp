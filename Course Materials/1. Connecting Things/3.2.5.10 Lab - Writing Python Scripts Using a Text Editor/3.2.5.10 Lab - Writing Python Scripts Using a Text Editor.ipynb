{
 "cells": [
  {
   "cell_type": "markdown",
   "metadata": {},
   "source": [
    "![Cisco Networking Academy](images/cisco.png)"
   ]
  },
  {
   "cell_type": "markdown",
   "metadata": {},
   "source": [
    "# Lab: Writing Scripts Using a Text Editor\n",
    "\n",
    "\n",
    "### Topology\n",
    "![Topology](images/topology.png)\n",
    " \n",
    "### Objectives\n",
    " * Access PL-App from your Netacad.com class.\n",
    " * Connect to the Shell on the board using the PL-App Web Shell\n",
    " * Create a Program Using Nano\n",
    "\n",
    "### Background / Scenario\n",
    "Writing scripts using a command line editor is a skill that is often used when managing servers and remote devices. This lab introduces the Nano text editor which is available through the BASH shell.\n",
    "\n",
    "### Required Resources\n",
    " * PC with Internet Access \n",
    " * Ethernet based connection to the Internet with DHCP and no traffic filtering\n",
    " * Raspberry Pi that is configured and imaged for PL-App access"
   ]
  },
  {
   "cell_type": "markdown",
   "metadata": {},
   "source": [
    "## Part 1:\tAccessing the Shell Interface using PL-App\n",
    "\n",
    "### Step 1:\tConnect to the Linux Shell using the PL-App Web Shell.\n",
    " **a.** Click the New menu in PL-App from the menu and select Terminal:\n",
    "![chestnut_new_terminal](images/chestnut_new_terminal.png)\n",
    " **b.** A new window will open with the Linux shell running on the Raspberry Pi board."
   ]
  },
  {
   "cell_type": "markdown",
   "metadata": {},
   "source": [
    "### Step 2:\tCreate a Program Using Nano\n",
    " 1. Open the text editor `Nano` by typing `nano GuessAgain.py` in the command line. If the `GusessAgain.py` file already exists in the current directory, `nano` will open the file for editing. If the file does not exist, it will create it. \n",
    "*Note: Filenames are case sensitive in Linux, so make sure you type in the same case each time.*\n",
    "\n",
    " 2. To ensure that the script will be executed by the Python (version 3) interpreter, the very first line of the script needs to start with the [shebang](https://en.wikipedia.org/wiki/Shebang_%28Unix%29) `#!` characters followed by the *path/location* of the interpreter (*the `env` util selects the Python executable that is active in the current $PATH*):\n",
    "```bash\n",
    "#!/usr/bin/env python3\n",
    "```\n",
    "\n",
    " 3. Enter the remaining code into the `GuessAgain.py` file. Once complete, save the file and exit the editor by pressing CTRL+x and selecting Y, for yes, to save the file then Enter to accept the current filename.\n",
    "```python\n",
    "#!/usr/bin/env python3\n",
    "C=\"X\"           #C represents Correct\n",
    "G=1             #G represents Guesses\n",
    "L=0             #L represents Low\n",
    "H=1000          #H represents High\n",
    "print (\"Think of a number between 1 and 1000 and I will guess it.\")\n",
    "while C != \"C\":\n",
    "        print (\"Guess Number \",G)\n",
    "        print (\"Is your number \",int((L+H)/2),\"? (C)orrect, (L)ower, (H)igher\") #make sure it is integer\n",
    "        C = input(\">\")\n",
    "        if C == \"L\":\n",
    "                H = (L+H)/2\n",
    "                G = G + 1\n",
    "        else:\n",
    "                if C == \"H\":\n",
    "                        L = (L+H)/2\n",
    "                        G = G + 1\n",
    "                else:\n",
    "                        print (\"Please enter C,L, or H\")\n",
    "print (\"I guessed it in \",G,\"tries!\")\n",
    "```\n",
    "\n",
    " 4. Before you can directly execute the Python code from the shell, you must turn the file into an executable file using the `chmod +x` command. \n",
    " \n",
    " Execute the program by typing `./GuessAgain.py`.\n",
    "```bash\n",
    "root@chestnut:/home/pi/notebooks# ls -l ./GuessAgain.py\n",
    "-rw-r--r-- 1 root root 1689 Dec  5 02:24 GuessAgain.py\n",
    "root@chestnut:/home/pi/notebooks# ./GuessAgain.py\n",
    "bash: ./GuessAgain.py: Permission denied\n",
    "root@chestnut:/home/pi/notebooks#  chmod +x GuessAgain.py\n",
    "root@chestnut:/home/pi/notebooks# ls -l ./GuessAgain.py\n",
    "-rwxr-xr-x 1 root root 1689 Dec  5 02:24 GuessAgain.py\n",
    "root@chestnut:/home/pi/notebooks#  ./GuessAgain.py\n",
    "```\n",
    "\n",
    " 5.\tExamine the code from the command line using the cat, more, and less commands.\n",
    "```bash\n",
    "root@chestnut:/home/pi/notebooks#  cat GuessAgain.py\n",
    "root@chestnut:/home/pi/notebooks#  more GuessAgain.py\n",
    "root@chestnut:/home/pi/notebooks#  less GuessAgain.py\n",
    "```\n",
    "\n",
    "*Note: Press Q to quit the less command.*"
   ]
  },
  {
   "cell_type": "markdown",
   "metadata": {},
   "source": [
    "## Reflection\n",
    "In the GuessAgain.py program, when C is pressed for correct, the program asks the user to Please enter C,L, or H before quitting. Can you fix this problem?  "
   ]
  },
  {
   "cell_type": "markdown",
   "metadata": {
    "collapsed": true
   },
   "source": [
    "###### &copy; 2017 Cisco and/or its affiliates. All rights reserved. This document is Cisco Public."
   ]
  }
 ],
 "metadata": {
  "anaconda-cloud": {},
  "kernelspec": {
   "display_name": "Python 3",
   "language": "python",
   "name": "python3"
  },
  "language_info": {
   "codemirror_mode": {
    "name": "ipython",
    "version": 3
   },
   "file_extension": ".py",
   "mimetype": "text/x-python",
   "name": "python",
   "nbconvert_exporter": "python",
   "pygments_lexer": "ipython3",
   "version": "3.5.3"
  }
 },
 "nbformat": 4,
 "nbformat_minor": 1
}
