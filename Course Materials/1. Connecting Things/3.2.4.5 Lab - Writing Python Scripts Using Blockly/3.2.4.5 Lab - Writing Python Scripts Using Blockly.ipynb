{
 "cells": [
  {
   "cell_type": "markdown",
   "metadata": {},
   "source": [
    "![Cisco Networking Academy](images/cisco.png)"
   ]
  },
  {
   "cell_type": "markdown",
   "metadata": {},
   "source": [
    "# Lab: Writing Python Scripts Using Blockly \n",
    "\n",
    "\n",
    "![Topology](images/topology.png)\n",
    "\n",
    "### Objectives\n",
    " * Access the Official Course Materials from PL-App\n",
    " * Create a new Visual Programming application\n",
    " * Create a Python Script using Blockly\n",
    "\n",
    "### Background / Scenario\n",
    "The syntax of programming can sometimes get in the way of the logic. Blockly provides a graphical way for programs to be developed without having to worry about the details of a particular language.\n",
    "\n",
    "### Required Resources\n",
    " * PC with Internet Access\n",
    " * Ethernet based connection to the Internet with DHCP and no traffic filtering\n",
    " * Raspberry Pi that is configured and imaged for PL-App access"
   ]
  },
  {
   "cell_type": "markdown",
   "metadata": {},
   "source": [
    "## Task1: Learn Blockly\n",
    "\n",
    "### Step 1\tCreate a Visual (Blockly) Programming cell.\n",
    " **a.**\tEnter the Code cell bellow and turn it from a default Python code cell to a Visual Programming cell by clicking on the **Blockly icon** in the toolbar.\n",
    "![Chestnut Toolbar with Blockly](images/chestnut_toolbar_blockly.png)"
   ]
  },
  {
   "cell_type": "code",
   "execution_count": null,
   "metadata": {
    "collapsed": true
   },
   "outputs": [],
   "source": [
    "# turn this cell into a Visual Programming cell by clicking on the Blockly icon in the toolbar\n"
   ]
  },
  {
   "cell_type": "markdown",
   "metadata": {},
   "source": [
    "### Step 3:\tCreate a program Using Blockly\n",
    "\n",
    " 1.\tThe code cell now supports Visual Programming using Blockly. Add a new **Print** block and **Text** block to the canvas from the \"Program->Text\" menu.\n",
    "![Blockly Interface](images/blockly1.png)\n",
    " \n",
    " 2. Connect the **Text** block to the **Print** block. Add to the **Text** block the follwing text: `This program will sort two words alphabetically.`\n",
    "![Blockly print text](images/blockly2.png)\n",
    "\n",
    " 3. Select the Program > Variables > set item to block.\n",
    "![blockly_set_item](images/blockly_set_item.png)\n",
    "\n",
    " 4. Place the block below the Print on screen block.\n",
    "![blockly3](images/blockly3.png)\n",
    "\n",
    " 5. From the \"Program->Text\" menu, select and drop to the canvas the **prompt for text with message** block and connect it to the existing **set item** block. Update the text part of the **prompt for text with message** block to `What is the first word?`\n",
    "![blockly_prompt](images/blockly_prompt.png)\n",
    "\n",
    " 6. Change the set to variable name to `Word1`.\n",
    "![blockly_rename_item](images/blockly_rename_item.png)\n",
    "\n",
    " 7. Right click the red area on the set to block and select Duplicate . Reposition the new block directly below the previous set to block. \n",
    "![blockly_duplicate](images/blockly_duplicate.png)\n",
    " \n",
    " 8. Using the arrow next to `Word1` in the bottom set to block, select `New Variable…` and type `Word2` as the new variable name. \n",
    " \n",
    " *Note: Using the Rename variable… option will change the variable in both set to blocks to Word2,  as depicted below. This is not what you want.*\n",
    " ![blockly_rename2](images/blockly_rename2.png)\n",
    " \n",
    " 9. Select the Program > Logic > if-do block and insert it below the previous three blocks. \n",
    "\n",
    " 10. Select the Program > Logic > equal block and append it to the if-do block.\n",
    "![blockly_if_equal](images/blockly_if_equal.png)\n",
    "\n",
    " 11. Select Program > Variables > Word1 and insert it into the first variable location in the equal block. Select Program > Variables > Word2 and insert it into the second variable location of the equal block. \n",
    "![blockly_variables](images/blockly_variables.png)\n",
    "\n",
    " 12. Change the equal symbol to a less than symbol \n",
    "![blockly_if_cont](images/blockly_if_cont.png)\n",
    "\n",
    " 13. Add two **Print** blocks on the canvas from the \"Program->Text\" menu into the **if** block.\n",
    "![blockly_prints](images/blockly_prints.png)\n",
    "\n",
    " 14. Add the variables **Word1** and **Word2** to the **Print** blocks.\n",
    "![blockly_prints_variables](images/blockly_prints_variables.png)\n",
    "\n",
    " 15. Select the else statement using the star located at the top of the if block, and drag it to the right onto the if icon.\n",
    "![blockly_if_else](images/blockly_if_else.png)\n",
    "\n",
    " 16. Duplicate the Print on screen statements using the right mouse button, and place them in the else area in reverse order.\n",
    " 17. The competed project should resemble the program depicted below. If it does not, make changes accordingly.\n",
    "![blockly_complete](images/blockly_complete.png)\n",
    "\n",
    " 18. Examine the Python source code using the generated code on the right side of the screen.\n",
    "![blockly_code](images/blockly_code.png)"
   ]
  },
  {
   "cell_type": "markdown",
   "metadata": {},
   "source": [
    "### Step 4:\tRun the Application.\n",
    " 1.\tIn the code cell, click on the **Play** button at the top left corner of the cell. The Python code will be executed on the Raspberry Pi with the input and output handled via this notebook page.\n",
    "![Play button](images/playButton.png)"
   ]
  },
  {
   "cell_type": "markdown",
   "metadata": {},
   "source": [
    "## Reflection\n",
    "What would the output be if the less than symbol was changed to the greater than symbol in the WordSorter program?\n"
   ]
  },
  {
   "cell_type": "markdown",
   "metadata": {
    "collapsed": true
   },
   "source": [
    "###### &copy; 2017 Cisco and/or its affiliates. All rights reserved. This document is Cisco Public."
   ]
  }
 ],
 "metadata": {
  "anaconda-cloud": {},
  "kernelspec": {
   "display_name": "Python 3",
   "language": "python",
   "name": "python3"
  },
  "language_info": {
   "codemirror_mode": {
    "name": "ipython",
    "version": 3
   },
   "file_extension": ".py",
   "mimetype": "text/x-python",
   "name": "python",
   "nbconvert_exporter": "python",
   "pygments_lexer": "ipython3",
   "version": "3.5.3"
  }
 },
 "nbformat": 4,
 "nbformat_minor": 1
}
