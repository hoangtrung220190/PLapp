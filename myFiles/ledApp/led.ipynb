{
 "cells": [
  {
   "cell_type": "code",
   "execution_count": 38,
   "metadata": {},
   "outputs": [
    {
     "name": "stdout",
     "output_type": "stream",
     "text": [
      "True\n"
     ]
    }
   ],
   "source": [
    "# Importing the required modules\n",
    "from __future__ import print_function\n",
    "from ipywidgets import interact, interactive, fixed, interact_manual\n",
    "import ipywidgets as widgets\n",
    "from pyfirmata import Arduino\n",
    "import chestnut.arduino\n",
    "chestnut.arduino.flash_firmata(\"uno\", '/dev/ttyUSB0')\n",
    "\n",
    "board = Arduino('/dev/ttyUSB0')\n",
    "\n",
    "ledOnOff = board.get_pin('d:9:o')\n",
    "\n",
    "ledDim   = board.get_pin('d:11:p')\n",
    "\n",
    "    \n",
    "def interactFunctionTurnOnOffLed(ledOnOff_status):\n",
    "    global ledOnOff\n",
    "    ledOnOff.write(ledOnOff_status)\n",
    "    print(ledOnOff_status)\n",
    "    \n",
    "def interactFunctionDimLed(ledDim_value):\n",
    "    global ledDim\n",
    "    ledDim.write(ledDim_value/255.0)\n",
    "    print(ledDim_value)\n",
    "    \n",
    "interact(interactFunctionTurnOnOffLed, ledOnOff_status=True)\n",
    "#  slider with values between 0 and 255\n",
    "interact(interactFunctionDimLed, ledDim_value=(0,255))\n"
   ]
  },
  {
   "cell_type": "code",
   "execution_count": null,
   "metadata": {
    "collapsed": true
   },
   "outputs": [],
   "source": []
  },
  {
   "cell_type": "code",
   "execution_count": null,
   "metadata": {
    "collapsed": true
   },
   "outputs": [],
   "source": []
  }
 ],
 "metadata": {
  "kernelspec": {
   "display_name": "Python 3",
   "language": "python",
   "name": "python3"
  },
  "language_info": {
   "codemirror_mode": {
    "name": "ipython",
    "version": 3
   },
   "file_extension": ".py",
   "mimetype": "text/x-python",
   "name": "python",
   "nbconvert_exporter": "python",
   "pygments_lexer": "ipython3",
   "version": "3.5.3"
  }
 },
 "nbformat": 4,
 "nbformat_minor": 2
}
